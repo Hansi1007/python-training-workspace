{
 "cells": [
  {
   "cell_type": "code",
   "execution_count": 1,
   "metadata": {},
   "outputs": [],
   "source": [
    "import numpy as np\n",
    "import matplotlib.pyplot as plt\n"
   ]
  },
  {
   "cell_type": "code",
   "execution_count": 4,
   "metadata": {},
   "outputs": [
    {
     "name": "stdout",
     "output_type": "stream",
     "text": [
      "Input Vectoren [[1 0 0]\n",
      " [1 1 0]\n",
      " [1 0 1]\n",
      " [1 1 1]]  shape:  (4, 3)\n"
     ]
    }
   ],
   "source": [
    "# 3 dimensonale input = Bias,Anwesend A, Anwesend B\n",
    "# 4 Inputvektoren\n",
    "x = np.array([\n",
    "    [1,0,0],\n",
    "    [1,1,0],\n",
    "    [1,0,1],\n",
    "    [1,1,1],\n",
    "])\n",
    "print(\"Input Vectoren\", x, \" shape: \", x.shape)"
   ]
  },
  {
   "cell_type": "code",
   "execution_count": 37,
   "metadata": {},
   "outputs": [],
   "source": [
    "# Gewünschte Ergebniswerte\n",
    "y = np.array([0,1,1,1])"
   ]
  },
  {
   "cell_type": "code",
   "execution_count": 38,
   "metadata": {},
   "outputs": [],
   "source": [
    "# Heaviside - Funktiom\n",
    "def heaviside(summe):\n",
    "    if summe >= 0 :\n",
    "        return 1\n",
    "    else:\n",
    "        return 0"
   ]
  },
  {
   "cell_type": "code",
   "execution_count": 47,
   "metadata": {},
   "outputs": [],
   "source": [
    "def perceptron_eval(X, Y)-> float:\n",
    "    gesamtfehler = 0\n",
    "\n",
    "    # gewichte so wählen dass das OR - Problem gelöst werden kann\n",
    "    weights = np.array([-1, 1, 1])\n",
    "\n",
    "    for i, x in enumerate(X):\n",
    "        summe = np.dot(weights,x)\n",
    "        ergebnis = heaviside(summe)\n",
    "        # Fehler\n",
    "        fehler = np.abs(ergebnis - Y[i])\n",
    "        gesamtfehler += fehler\n",
    "        print(\"A = {}, B={}, gewuenschtes Ergebnis = {}, errechnetes Ergebnis = {}, Fehler = {}\".format(x[1], x[2], Y[i], ergebnis, fehler))\n",
    "\n",
    "\n",
    "\n"
   ]
  },
  {
   "cell_type": "code",
   "execution_count": 48,
   "metadata": {},
   "outputs": [
    {
     "name": "stdout",
     "output_type": "stream",
     "text": [
      "A = 0, B=0, gewuenschtes Ergebnis = 0, errechnetes Ergebnis = 0, Fehler = 0\n",
      "A = 1, B=0, gewuenschtes Ergebnis = 1, errechnetes Ergebnis = 1, Fehler = 0\n",
      "A = 0, B=1, gewuenschtes Ergebnis = 1, errechnetes Ergebnis = 1, Fehler = 0\n",
      "A = 1, B=1, gewuenschtes Ergebnis = 1, errechnetes Ergebnis = 1, Fehler = 0\n",
      "None\n"
     ]
    }
   ],
   "source": [
    "gesamtfehler =  perceptron_eval(x,y)\n",
    "print(gesamtfehler)"
   ]
  },
  {
   "cell_type": "code",
   "execution_count": null,
   "metadata": {},
   "outputs": [],
   "source": []
  },
  {
   "cell_type": "code",
   "execution_count": null,
   "metadata": {},
   "outputs": [],
   "source": []
  }
 ],
 "metadata": {
  "kernelspec": {
   "display_name": "Python 3.9.13 ('base')",
   "language": "python",
   "name": "python3"
  },
  "language_info": {
   "codemirror_mode": {
    "name": "ipython",
    "version": 3
   },
   "file_extension": ".py",
   "mimetype": "text/x-python",
   "name": "python",
   "nbconvert_exporter": "python",
   "pygments_lexer": "ipython3",
   "version": "3.9.13"
  },
  "orig_nbformat": 4,
  "vscode": {
   "interpreter": {
    "hash": "6ad93510c6c24280dea2c27e84bea9df1cdb64651dc08be03082e318517273cb"
   }
  }
 },
 "nbformat": 4,
 "nbformat_minor": 2
}
