{
 "cells": [
  {
   "cell_type": "code",
   "execution_count": 1,
   "metadata": {},
   "outputs": [],
   "source": [
    "import numpy as np\n",
    "import matplotlib.pyplot as plt\n",
    "\n"
   ]
  },
  {
   "cell_type": "code",
   "execution_count": 44,
   "metadata": {},
   "outputs": [],
   "source": [
    "def derive(func , input_, delta: float = 0.001):\n",
    "    '''\n",
    "    Ermittelt die Ableitung einer Funktion \"func\" für jedes Element im Array \"input_\".\n",
    "    '''\n",
    "    return (func(input_ + delta) - func(input_ - delta)) / (2 * delta)\n",
    "\n",
    "def sigmoid(x):\n",
    "   return 1 / (1 + np.exp(-x))\n",
    "\n",
    "def sqared(x):\n",
    "   return np.power(x,2)        \n"
   ]
  },
  {
   "cell_type": "code",
   "execution_count": 45,
   "metadata": {},
   "outputs": [],
   "source": [
    "def multiple_inputs_add_backword(x,y, sigma):\n",
    "    # Die vorwärtspropagation berechnen\n",
    "    a = x + y\n",
    "\n",
    "    dsda = derive(sigma, a)\n",
    "\n",
    "    dadx, dady = 1, 1\n",
    "\n",
    "    return dsda * dadx, dsda * dady\n"
   ]
  },
  {
   "cell_type": "code",
   "execution_count": 46,
   "metadata": {},
   "outputs": [
    {
     "name": "stdout",
     "output_type": "stream",
     "text": [
      "(40,) (40,)\n"
     ]
    },
    {
     "data": {
      "text/plain": [
       "[<matplotlib.lines.Line2D at 0x21195b2c0a0>]"
      ]
     },
     "execution_count": 46,
     "metadata": {},
     "output_type": "execute_result"
    },
    {
     "data": {
      "image/png": "[encoded data removed]",
      "text/plain": [
       "<Figure size 640x480 with 1 Axes>"
      ]
     },
     "metadata": {},
     "output_type": "display_data"
    }
   ],
   "source": [
    "x = np.arange(-2,2,0.1)\n",
    "y = np.zeros(x.shape)\n",
    "print(x.shape,y.shape)\n",
    "\n",
    "\n",
    "y1,y2 = multiple_inputs_add_backword(x,y, sigmoid)\n",
    "plt.plot(x, y1)\n",
    "\n"
   ]
  },
  {
   "cell_type": "markdown",
   "metadata": {},
   "source": []
  },
  {
   "cell_type": "code",
   "execution_count": null,
   "metadata": {},
   "outputs": [],
   "source": []
  },
  {
   "cell_type": "code",
   "execution_count": 47,
   "metadata": {},
   "outputs": [],
   "source": [
    "import sympy as sy\n",
    "sy.init_printing()"
   ]
  },
  {
   "cell_type": "code",
   "execution_count": 60,
   "metadata": {},
   "outputs": [],
   "source": [
    "x,y = sy.symbols('x y')\n"
   ]
  },
  {
   "cell_type": "code",
   "execution_count": 61,
   "metadata": {},
   "outputs": [],
   "source": [
    "f1 = 1 / (1 + sy.exp(-(x)))\n",
    "f2 = x +y"
   ]
  },
  {
   "cell_type": "code",
   "execution_count": 65,
   "metadata": {},
   "outputs": [
    {
     "name": "stdout",
     "output_type": "stream",
     "text": [
      "f1'(x) =  exp(-x)/(1 + exp(-x))**2\n",
      "f1'(y) =  0\n",
      "f2'(x) =  1\n",
      "f1'(y) =  1\n"
     ]
    }
   ],
   "source": [
    "print(\"f1'(x) = \", sy.diff(f1,x))\n",
    "print(\"f1'(y) = \", sy.diff(f1,y))\n",
    "print(\"f2'(x) = \",sy.diff(f2,x))\n",
    "print(\"f1'(y) = \",sy.diff(f2,y))"
   ]
  },
  {
   "cell_type": "code",
   "execution_count": 66,
   "metadata": {},
   "outputs": [
    {
     "data": {
      "text/latex": [
       "$\\displaystyle \\left[\\begin{matrix}\\frac{1}{1 + e^{- x}}\\\\x + y\\end{matrix}\\right]$"
      ],
      "text/plain": [
       "⎡   1   ⎤\n",
       "⎢───────⎥\n",
       "⎢     -x⎥\n",
       "⎢1 + ℯ  ⎥\n",
       "⎢       ⎥\n",
       "⎣ x + y ⎦"
      ]
     },
     "execution_count": 66,
     "metadata": {},
     "output_type": "execute_result"
    }
   ],
   "source": [
    "x, y = sy.symbols('x, y')\n",
    "F = sy.Matrix([f1, f2])\n",
    "F"
   ]
  },
  {
   "cell_type": "code",
   "execution_count": 67,
   "metadata": {},
   "outputs": [
    {
     "data": {
      "text/latex": [
       "$\\displaystyle \\left[\\begin{matrix}\\frac{e^{- x}}{\\left(1 + e^{- x}\\right)^{2}} & 0\\\\1 & 1\\end{matrix}\\right]$"
      ],
      "text/plain": [
       "⎡    -x       ⎤\n",
       "⎢   ℯ         ⎥\n",
       "⎢──────────  0⎥\n",
       "⎢         2   ⎥\n",
       "⎢⎛     -x⎞    ⎥\n",
       "⎢⎝1 + ℯ  ⎠    ⎥\n",
       "⎢             ⎥\n",
       "⎣    1       1⎦"
      ]
     },
     "execution_count": 67,
     "metadata": {},
     "output_type": "execute_result"
    }
   ],
   "source": [
    "X_ = (x,y)\n",
    "F.jacobian(X_)"
   ]
  },
  {
   "cell_type": "code",
   "execution_count": 80,
   "metadata": {},
   "outputs": [
    {
     "data": {
      "text/plain": [
       "array([[0.01766271, 0.        ],\n",
       "       [1.        , 1.        ]])"
      ]
     },
     "execution_count": 80,
     "metadata": {},
     "output_type": "execute_result"
    }
   ],
   "source": [
    "f = sy.lambdify(X_, F.jacobian(X_))\n",
    "f(4,4)\n",
    "\n",
    "\n"
   ]
  },
  {
   "cell_type": "code",
   "execution_count": 90,
   "metadata": {},
   "outputs": [
    {
     "data": {
      "text/latex": [
       "$\\displaystyle \\left[\\begin{matrix}x^{2} + 2 y^{3}\\\\x + y\\end{matrix}\\right]$"
      ],
      "text/plain": [
       "⎡ 2      3⎤\n",
       "⎢x  + 2⋅y ⎥\n",
       "⎢         ⎥\n",
       "⎣  x + y  ⎦"
      ]
     },
     "execution_count": 90,
     "metadata": {},
     "output_type": "execute_result"
    }
   ],
   "source": [
    "x, y = sy.symbols('x, y')\n",
    "f1 = x**2 + 2*y**3\n",
    "f2 = x + y\n",
    "F = sy.Matrix([f1, f2])\n",
    "F"
   ]
  },
  {
   "cell_type": "code",
   "execution_count": 91,
   "metadata": {},
   "outputs": [
    {
     "data": {
      "text/latex": [
       "$\\displaystyle \\left[\\begin{matrix}2 x & 6 y^{2}\\\\1 & 1\\end{matrix}\\right]$"
      ],
      "text/plain": [
       "⎡        2⎤\n",
       "⎢2⋅x  6⋅y ⎥\n",
       "⎢         ⎥\n",
       "⎣ 1    1  ⎦"
      ]
     },
     "execution_count": 91,
     "metadata": {},
     "output_type": "execute_result"
    }
   ],
   "source": [
    "X_ = (x,y)\n",
    "F.jacobian(X_)"
   ]
  },
  {
   "cell_type": "code",
   "execution_count": 93,
   "metadata": {},
   "outputs": [
    {
     "data": {
      "text/plain": [
       "array([[2, 6],\n",
       "       [1, 1]])"
      ]
     },
     "execution_count": 93,
     "metadata": {},
     "output_type": "execute_result"
    }
   ],
   "source": [
    "f = sy.lambdify(X_, F.jacobian(X_))\n",
    "f(1,1)"
   ]
  },
  {
   "cell_type": "code",
   "execution_count": null,
   "metadata": {},
   "outputs": [],
   "source": []
  }
 ],
 "metadata": {
  "kernelspec": {
   "display_name": "base",
   "language": "python",
   "name": "python3"
  },
  "language_info": {
   "codemirror_mode": {
    "name": "ipython",
    "version": 3
   },
   "file_extension": ".py",
   "mimetype": "text/x-python",
   "name": "python",
   "nbconvert_exporter": "python",
   "pygments_lexer": "ipython3",
   "version": "3.9.13 (main, Aug 25 2022, 23:51:50) [MSC v.1916 64 bit (AMD64)]"
  },
  "orig_nbformat": 4,
  "vscode": {
   "interpreter": {
    "hash": "6ad93510c6c24280dea2c27e84bea9df1cdb64651dc08be03082e318517273cb"
   }
  }
 },
 "nbformat": 4,
 "nbformat_minor": 2
}
