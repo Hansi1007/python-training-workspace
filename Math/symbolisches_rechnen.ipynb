{
 "cells": [
  {
   "cell_type": "markdown",
   "metadata": {},
   "source": [
    "# Symbolisches Rechnen\n",
    "Bisher haben wir uns auf allgemeines Python und Numerik konzentriert. Mit Python können wir allerdings auch symbolisches Rechnen durchführen, also das Bearbeiten von symbolischen Ausdrücken (Computer Algebra System (CAS)).\n",
    "\n",
    "siehe auch: http://num.math.uni-goettingen.de/pycourse/html/lectures/20_Symbolisches_Rechnen.html"
   ]
  },
  {
   "cell_type": "markdown",
   "metadata": {},
   "source": [
    "## Sympy \n",
    "im Terminal sympy herunterladen\n",
    "\n",
    "@Hansi1007 ➜ /workspaces/codespaces-jupyter (main ✗) $ pip install sympy"
   ]
  },
  {
   "cell_type": "code",
   "execution_count": 2,
   "metadata": {},
   "outputs": [],
   "source": [
    "import sympy as sy"
   ]
  },
  {
   "cell_type": "code",
   "execution_count": 3,
   "metadata": {},
   "outputs": [
    {
     "data": {
      "text/plain": [
       "sympy.core.symbol.Symbol"
      ]
     },
     "execution_count": 3,
     "metadata": {},
     "output_type": "execute_result"
    }
   ],
   "source": [
    "x,y = sy.symbols('x y')\n",
    "type(x)\n"
   ]
  },
  {
   "cell_type": "code",
   "execution_count": 4,
   "metadata": {},
   "outputs": [
    {
     "data": {
      "text/latex": [
       "$\\displaystyle x^{2} + y$"
      ],
      "text/plain": [
       "x**2 + y"
      ]
     },
     "execution_count": 4,
     "metadata": {},
     "output_type": "execute_result"
    }
   ],
   "source": [
    "expr = x**2 + y\n",
    "expr"
   ]
  },
  {
   "cell_type": "code",
   "execution_count": 5,
   "metadata": {},
   "outputs": [
    {
     "data": {
      "text/plain": [
       "sympy.core.add.Add"
      ]
     },
     "execution_count": 5,
     "metadata": {},
     "output_type": "execute_result"
    }
   ],
   "source": [
    "type(expr)"
   ]
  },
  {
   "cell_type": "code",
   "execution_count": 6,
   "metadata": {},
   "outputs": [
    {
     "data": {
      "text/plain": [
       "float"
      ]
     },
     "execution_count": 6,
     "metadata": {},
     "output_type": "execute_result"
    }
   ],
   "source": [
    "ypy = 0.0\n",
    "type(ypy)"
   ]
  },
  {
   "cell_type": "code",
   "execution_count": 7,
   "metadata": {},
   "outputs": [
    {
     "data": {
      "text/latex": [
       "$\\displaystyle x^{2} + y$"
      ],
      "text/plain": [
       "x**2 + y"
      ]
     },
     "execution_count": 7,
     "metadata": {},
     "output_type": "execute_result"
    }
   ],
   "source": [
    "#Man verwendet für die namen derVariablen üblicherweise die selbe wie für py.\n",
    "x, y = sy.symbols('x, y')\n",
    "x**2 + y"
   ]
  },
  {
   "cell_type": "code",
   "execution_count": 8,
   "metadata": {},
   "outputs": [
    {
     "data": {
      "text/plain": [
       "(x**2 + 3*x + y, x - y)"
      ]
     },
     "execution_count": 8,
     "metadata": {},
     "output_type": "execute_result"
    }
   ],
   "source": [
    "f = x*x+3*x+y\n",
    "g = x-y\n",
    "f,g"
   ]
  },
  {
   "cell_type": "code",
   "execution_count": 9,
   "metadata": {},
   "outputs": [],
   "source": [
    "sy.init_printing()"
   ]
  },
  {
   "cell_type": "code",
   "execution_count": 10,
   "metadata": {},
   "outputs": [
    {
     "data": {
      "image/png": "[encoded data removed]",
      "text/latex": [
       "$\\displaystyle \\left( x^{2} + 3 x + y, \\  x - y\\right)$"
      ],
      "text/plain": [
       "⎛ 2                 ⎞\n",
       "⎝x  + 3⋅x + y, x - y⎠"
      ]
     },
     "execution_count": 10,
     "metadata": {},
     "output_type": "execute_result"
    }
   ],
   "source": [
    "f = x*x+3*x+y\n",
    "g = x-y\n",
    "f,g"
   ]
  },
  {
   "cell_type": "markdown",
   "metadata": {},
   "source": [
    "## S - Symbolisch machen\n",
    "Aufgrund des Unterschieds zwischen normalen (numerischen) Python-Variablen und den symbolischen Variablen muss man manchmal auch dafür Sorge tragen, dass man symbolische Verarbeitung aufrechterhalten kann. Dafür gibt es eine Funktion S, die normale Python-Objekte sympifiziert, also zu einem symbolischen Objekt macht."
   ]
  },
  {
   "cell_type": "code",
   "execution_count": 11,
   "metadata": {},
   "outputs": [],
   "source": [
    "from sympy import S"
   ]
  },
  {
   "cell_type": "code",
   "execution_count": 12,
   "metadata": {},
   "outputs": [
    {
     "name": "stdout",
     "output_type": "stream",
     "text": [
      "<class 'sympy.core.numbers.Integer'>\n",
      "<class 'int'>\n"
     ]
    }
   ],
   "source": [
    "print(type(S(5)))  # die 5 Symbolisch machen\n",
    "print(type(5))     # Numerische 5 Type int"
   ]
  },
  {
   "cell_type": "code",
   "execution_count": 13,
   "metadata": {},
   "outputs": [
    {
     "data": {
      "image/png": "[encoded data removed]",
      "text/latex": [
       "$\\displaystyle x^{2} \\left(x + 2\\right) \\sin{\\left(x \\right)}$"
      ],
      "text/plain": [
       " 2               \n",
       "x ⋅(x + 2)⋅sin(x)"
      ]
     },
     "execution_count": 13,
     "metadata": {},
     "output_type": "execute_result"
    }
   ],
   "source": [
    "f = S('sin(x) * (x+2) * x^2 ')\n",
    "f"
   ]
  },
  {
   "cell_type": "code",
   "execution_count": 14,
   "metadata": {},
   "outputs": [
    {
     "data": {
      "image/png": "[encoded data removed]",
      "text/latex": [
       "$\\displaystyle \\left(x - 2\\right)^{2} \\left(x + 2\\right)^{2}$"
      ],
      "text/plain": [
       "       2        2\n",
       "(x - 2) ⋅(x + 2) "
      ]
     },
     "execution_count": 14,
     "metadata": {},
     "output_type": "execute_result"
    }
   ],
   "source": [
    "f = S(\"(x-2)^2 * (x+2)^2\")\n",
    "f\n"
   ]
  },
  {
   "cell_type": "code",
   "execution_count": 15,
   "metadata": {},
   "outputs": [
    {
     "data": {
      "image/png": "[encoded data removed]",
      "text/latex": [
       "$\\displaystyle \\left[ -2, \\  2\\right]$"
      ],
      "text/plain": [
       "[-2, 2]"
      ]
     },
     "execution_count": 15,
     "metadata": {},
     "output_type": "execute_result"
    }
   ],
   "source": [
    "sy.solve(f,x)"
   ]
  },
  {
   "cell_type": "code",
   "execution_count": 16,
   "metadata": {},
   "outputs": [
    {
     "data": {
      "image/png": "[encoded data removed]",
      "text/latex": [
       "$\\displaystyle \\left( \\frac{1}{2}, \\  \\pi, \\  e, \\  \\mathbb{Q}, \\  \\mathbb{R}\\right)$"
      ],
      "text/plain": [
       "(1/2, π, ℯ, ℚ, ℝ)"
      ]
     },
     "execution_count": 16,
     "metadata": {},
     "output_type": "execute_result"
    }
   ],
   "source": [
    "S.Half, S.Pi, S.Exp1  #S enthält häufig benutzte Objekte\n",
    "S.Half, S.Pi, S.Exp1, S.Rationals, S.Reals"
   ]
  },
  {
   "cell_type": "code",
   "execution_count": 17,
   "metadata": {},
   "outputs": [
    {
     "data": {
      "image/png": "[encoded data removed]",
      "text/latex": [
       "$\\displaystyle \\frac{d}{d x} f{\\left(x \\right)}$"
      ],
      "text/plain": [
       "d       \n",
       "──(f(x))\n",
       "dx      "
      ]
     },
     "execution_count": 17,
     "metadata": {},
     "output_type": "execute_result"
    }
   ],
   "source": [
    "x = sy.symbols('x')\n",
    "f = sy.Function('f')\n",
    "\n",
    "sy.diff(f(x), x ,1)\n"
   ]
  },
  {
   "cell_type": "code",
   "execution_count": 18,
   "metadata": {},
   "outputs": [
    {
     "data": {
      "image/png": "[encoded data removed]",
      "text/latex": [
       "$\\displaystyle f{\\left(x \\right)} + \\frac{d}{d x} f{\\left(x \\right)} + \\frac{d^{2}}{d x^{2}} f{\\left(x \\right)}$"
      ],
      "text/plain": [
       "                    2      \n",
       "       d           d       \n",
       "f(x) + ──(f(x)) + ───(f(x))\n",
       "       dx           2      \n",
       "                  dx       "
      ]
     },
     "execution_count": 18,
     "metadata": {},
     "output_type": "execute_result"
    }
   ],
   "source": [
    "dgl = sy.diff(f(x),x,2) + sy.diff(f(x),x,1) + f(x)\n",
    "dgl"
   ]
  },
  {
   "cell_type": "code",
   "execution_count": 19,
   "metadata": {},
   "outputs": [
    {
     "data": {
      "image/png": "[encoded data removed]",
      "text/latex": [
       "$\\displaystyle f{\\left(x \\right)} = \\left(14 \\sqrt{3} \\sin{\\left(\\frac{\\sqrt{3} x}{2} \\right)} + 42 \\cos{\\left(\\frac{\\sqrt{3} x}{2} \\right)}\\right) e^{- \\frac{x}{2}}$"
      ],
      "text/plain": [
       "                                         -x \n",
       "                                         ───\n",
       "       ⎛         ⎛√3⋅x⎞         ⎛√3⋅x⎞⎞   2 \n",
       "f(x) = ⎜14⋅√3⋅sin⎜────⎟ + 42⋅cos⎜────⎟⎟⋅ℯ   \n",
       "       ⎝         ⎝ 2  ⎠         ⎝ 2  ⎠⎠     "
      ]
     },
     "execution_count": 19,
     "metadata": {},
     "output_type": "execute_result"
    }
   ],
   "source": [
    "sy.dsolve(dgl, ics={f(0): 42, sy.diff(f(x),x).subs(x,0):0})"
   ]
  },
  {
   "cell_type": "code",
   "execution_count": 20,
   "metadata": {},
   "outputs": [
    {
     "data": {
      "image/png": "[encoded data removed]",
      "text/latex": [
       "$\\displaystyle \\sin{\\left(x^{2} \\right)}$"
      ],
      "text/plain": [
       "   ⎛ 2⎞\n",
       "sin⎝x ⎠"
      ]
     },
     "execution_count": 20,
     "metadata": {},
     "output_type": "execute_result"
    }
   ],
   "source": [
    "f = sy.sin(x**2)\n",
    "f"
   ]
  },
  {
   "cell_type": "code",
   "execution_count": 21,
   "metadata": {},
   "outputs": [
    {
     "data": {
      "image/png": "[encoded data removed]",
      "text/latex": [
       "$\\displaystyle 2 x \\cos{\\left(x^{2} \\right)}$"
      ],
      "text/plain": [
       "       ⎛ 2⎞\n",
       "2⋅x⋅cos⎝x ⎠"
      ]
     },
     "execution_count": 21,
     "metadata": {},
     "output_type": "execute_result"
    }
   ],
   "source": [
    "dfdx = sy.diff(f)\n",
    "dfdx"
   ]
  },
  {
   "cell_type": "code",
   "execution_count": 22,
   "metadata": {},
   "outputs": [],
   "source": [
    "f = sy.Function('f')\n",
    "g = sy.Function('g')\n",
    "h = sy.Function('h')\n"
   ]
  },
  {
   "cell_type": "code",
   "execution_count": 23,
   "metadata": {},
   "outputs": [
    {
     "data": {
      "image/png": "[encoded data removed]",
      "text/latex": [
       "$\\displaystyle \\frac{1}{1 + e^{- \\sin{\\left(x^{2} \\right)}}}$"
      ],
      "text/plain": [
       "      1      \n",
       "─────────────\n",
       "         ⎛ 2⎞\n",
       "     -sin⎝x ⎠\n",
       "1 + ℯ        "
      ]
     },
     "execution_count": 23,
     "metadata": {},
     "output_type": "execute_result"
    }
   ],
   "source": [
    "f = x**2\n",
    "g = sy.sin(f)\n",
    "h = 1/(1+sy.exp(-g))\n",
    "h"
   ]
  },
  {
   "cell_type": "code",
   "execution_count": 24,
   "metadata": {},
   "outputs": [
    {
     "data": {
      "image/png": "[encoded data removed]",
      "text/latex": [
       "$\\displaystyle \\frac{2 x e^{- \\sin{\\left(x^{2} \\right)}} \\cos{\\left(x^{2} \\right)}}{\\left(1 + e^{- \\sin{\\left(x^{2} \\right)}}\\right)^{2}}$"
      ],
      "text/plain": [
       "         ⎛ 2⎞        \n",
       "     -sin⎝x ⎠    ⎛ 2⎞\n",
       "2⋅x⋅ℯ        ⋅cos⎝x ⎠\n",
       "─────────────────────\n",
       "                  2  \n",
       "   ⎛         ⎛ 2⎞⎞   \n",
       "   ⎜     -sin⎝x ⎠⎟   \n",
       "   ⎝1 + ℯ        ⎠   "
      ]
     },
     "execution_count": 24,
     "metadata": {},
     "output_type": "execute_result"
    }
   ],
   "source": [
    "dfdx = sy.diff(h)\n",
    "dfdx"
   ]
  },
  {
   "cell_type": "code",
   "execution_count": 30,
   "metadata": {},
   "outputs": [
    {
     "data": {
      "image/png": "[encoded data removed]",
      "text/latex": [
       "$\\displaystyle 3 x^{2} + 10 x$"
      ],
      "text/plain": [
       "   2       \n",
       "3⋅x  + 10⋅x"
      ]
     },
     "execution_count": 30,
     "metadata": {},
     "output_type": "execute_result"
    }
   ],
   "source": [
    "expr = x**3 +5*x**2\n",
    "d=sy.Derivative(expr) \n",
    "d\n"
   ]
  },
  {
   "cell_type": "code",
   "execution_count": 33,
   "metadata": {},
   "outputs": [
    {
     "data": {
      "image/png": "[encoded data removed]",
      "text/latex": [
       "$\\displaystyle \\frac{d}{d x} \\left(x^{3} + 5 x^{2}\\right)$"
      ],
      "text/plain": [
       "d ⎛ 3      2⎞\n",
       "──⎝x  + 5⋅x ⎠\n",
       "dx           "
      ]
     },
     "execution_count": 33,
     "metadata": {},
     "output_type": "execute_result"
    }
   ],
   "source": [
    "d.doit()\n",
    "d\n"
   ]
  },
  {
   "cell_type": "code",
   "execution_count": 36,
   "metadata": {},
   "outputs": [
    {
     "data": {
      "image/png": "[encoded data removed]",
      "text/latex": [
       "$\\displaystyle \\left\\{-3, 3\\right\\}$"
      ],
      "text/plain": [
       "{-3, 3}"
      ]
     },
     "execution_count": 36,
     "metadata": {},
     "output_type": "execute_result"
    }
   ],
   "source": [
    "f = x**2 -9\n",
    "s = sy.solveset(sy.Eq(f,0), x)\n",
    "s"
   ]
  },
  {
   "cell_type": "code",
   "execution_count": null,
   "metadata": {},
   "outputs": [],
   "source": []
  }
 ],
 "metadata": {
  "kernelspec": {
   "display_name": "Python 3.10.4 64-bit",
   "language": "python",
   "name": "python3"
  },
  "language_info": {
   "codemirror_mode": {
    "name": "ipython",
    "version": 3
   },
   "file_extension": ".py",
   "mimetype": "text/x-python",
   "name": "python",
   "nbconvert_exporter": "python",
   "pygments_lexer": "ipython3",
   "version": "3.10.4"
  },
  "orig_nbformat": 4,
  "vscode": {
   "interpreter": {
    "hash": "3ad933181bd8a04b432d3370b9dc3b0662ad032c4dfaa4e4f1596c548f763858"
   }
  }
 },
 "nbformat": 4,
 "nbformat_minor": 2
}
