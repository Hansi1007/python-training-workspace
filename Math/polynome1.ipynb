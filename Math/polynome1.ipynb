{
 "cells": [
  {
   "cell_type": "code",
   "execution_count": 1,
   "metadata": {},
   "outputs": [],
   "source": [
    "from sympy import collect\n",
    "import sympy as sy"
   ]
  },
  {
   "cell_type": "code",
   "execution_count": 2,
   "metadata": {},
   "outputs": [],
   "source": [
    "sy.init_printing()"
   ]
  },
  {
   "cell_type": "markdown",
   "metadata": {},
   "source": [
    "# Polynome\n",
    "Berechne die Nullstellen von g(x)"
   ]
  },
  {
   "cell_type": "code",
   "execution_count": 3,
   "metadata": {},
   "outputs": [],
   "source": [
    "x,y,a,b,c,d = sy.symbols('x y a b c d')"
   ]
  },
  {
   "cell_type": "markdown",
   "metadata": {},
   "source": []
  },
  {
   "cell_type": "code",
   "execution_count": 4,
   "metadata": {},
   "outputs": [
    {
     "data": {
      "image/png": "[encoded data removed]",
      "text/latex": [
       "$\\displaystyle \\operatorname{Poly}{\\left( x^{5} + 2 x^{4} - x^{3} - 2 x^{2} + x, x, domain=\\mathbb{Z} \\right)}$"
      ],
      "text/plain": [
       "Poly(x**5 + 2*x**4 - x**3 - 2*x**2 + x, x, domain='ZZ')"
      ]
     },
     "execution_count": 4,
     "metadata": {},
     "output_type": "execute_result"
    }
   ],
   "source": [
    "sy.poly(x*(x**2 + x - 1)**2)\n"
   ]
  },
  {
   "cell_type": "markdown",
   "metadata": {},
   "source": [
    "# POLYNOMFUNKTIONEN\n",
    "Berechne die Nullstellen von $$ f(x) = - 2 x^{3} + 5 x^{2} + 16 x - 16 $$"
   ]
  },
  {
   "cell_type": "code",
   "execution_count": 5,
   "metadata": {},
   "outputs": [
    {
     "data": {
      "image/png": "[encoded data removed]",
      "text/latex": [
       "$\\displaystyle \\operatorname{Poly}{\\left( -2 x^{3} + 5 x^{2} + 16 x - 16, x, domain=\\mathbb{Z} \\right)}$"
      ],
      "text/plain": [
       "Poly(-2*x**3 + 5*x**2 + 16*x - 16, x, domain='ZZ')"
      ]
     },
     "execution_count": 5,
     "metadata": {},
     "output_type": "execute_result"
    }
   ],
   "source": [
    "# f = -2*x**3 + 5* x**2 + 16*x - 16\n",
    "\n",
    "def f1(x):\n",
    "    return -2*x**3 + 5* x**2 + 16*x - 16\n",
    "\n",
    "f = -2*x**3 + 5* x**2 + 16*x - 16\n",
    "sy.poly(f)\n"
   ]
  },
  {
   "cell_type": "code",
   "execution_count": 6,
   "metadata": {},
   "outputs": [
    {
     "name": "stdout",
     "output_type": "stream",
     "text": [
      "Degree:  3\n",
      "Degree List (3,)\n",
      "Return the leading coefficient of f. -2\n",
      "Return the leading term of f. -2*x**3\n",
      "Latex of f. - 2 x^{3} + 5 x^{2} + 16 x - 16\n"
     ]
    }
   ],
   "source": [
    "print('Degree: ', sy.degree(f, gen=x))\n",
    "print('Degree List', sy.degree_list(f,x))\n",
    "print('Return the leading coefficient of f.', sy.LC(f))\n",
    "print('Return the leading term of f.', sy.LT(f))\n",
    "print('Latex of f.', sy.latex(f))"
   ]
  },
  {
   "cell_type": "code",
   "execution_count": 7,
   "metadata": {},
   "outputs": [
    {
     "data": {
      "image/png": "[encoded data removed]",
      "text/latex": [
       "$\\displaystyle \\left[ 4, \\  - \\frac{3}{4} + \\frac{\\sqrt{41}}{4}, \\  - \\frac{\\sqrt{41}}{4} - \\frac{3}{4}\\right]$"
      ],
      "text/plain": [
       "⎡     3   √41    √41   3⎤\n",
       "⎢4, - ─ + ───, - ─── - ─⎥\n",
       "⎣     4    4      4    4⎦"
      ]
     },
     "execution_count": 7,
     "metadata": {},
     "output_type": "execute_result"
    }
   ],
   "source": [
    "sy.solve(f,x)"
   ]
  },
  {
   "cell_type": "code",
   "execution_count": 8,
   "metadata": {},
   "outputs": [
    {
     "data": {
      "image/png": "[encoded data removed]",
      "text/latex": [
       "$\\displaystyle - \\left(x - 4\\right) \\left(2 x^{2} + 3 x - 4\\right)$"
      ],
      "text/plain": [
       "         ⎛   2          ⎞\n",
       "-(x - 4)⋅⎝2⋅x  + 3⋅x - 4⎠"
      ]
     },
     "execution_count": 8,
     "metadata": {},
     "output_type": "execute_result"
    }
   ],
   "source": [
    "sy.factor(f)"
   ]
  },
  {
   "cell_type": "code",
   "execution_count": 9,
   "metadata": {},
   "outputs": [
    {
     "data": {
      "image/png": "[encoded data removed]",
      "text/latex": [
       "$\\displaystyle \\left[ - \\frac{3}{4} + \\frac{\\sqrt{41}}{4}, \\  - \\frac{\\sqrt{41}}{4} - \\frac{3}{4}\\right]$"
      ],
      "text/plain": [
       "⎡  3   √41    √41   3⎤\n",
       "⎢- ─ + ───, - ─── - ─⎥\n",
       "⎣  4    4      4    4⎦"
      ]
     },
     "execution_count": 9,
     "metadata": {},
     "output_type": "execute_result"
    }
   ],
   "source": [
    "sy.solve(2*x**2 + 3*x -4)"
   ]
  },
  {
   "cell_type": "code",
   "execution_count": 11,
   "metadata": {},
   "outputs": [
    {
     "data": {
      "image/png": "[encoded data removed]",
      "text/latex": [
       "$\\displaystyle - \\left(x - 4\\right) \\left(2 x^{2} + 3 x - 4\\right)$"
      ],
      "text/plain": [
       "         ⎛   2          ⎞\n",
       "-(x - 4)⋅⎝2⋅x  + 3⋅x - 4⎠"
      ]
     },
     "execution_count": 11,
     "metadata": {},
     "output_type": "execute_result"
    }
   ],
   "source": [
    "sy.factor(f)"
   ]
  },
  {
   "cell_type": "code",
   "execution_count": 12,
   "metadata": {},
   "outputs": [
    {
     "name": "stdout",
     "output_type": "stream",
     "text": [
      "-2*x**3 + 5*x**2 + 16*x - 16  =  -(x - 4)*(2*x**2 + 3*x - 4)\n"
     ]
    },
    {
     "data": {
      "text/plain": [
       "False"
      ]
     },
     "execution_count": 12,
     "metadata": {},
     "output_type": "execute_result"
    }
   ],
   "source": [
    "f2 = sy.factor(f)\n",
    "print(f, \" = \", f2)\n",
    "f == f2"
   ]
  },
  {
   "cell_type": "code",
   "execution_count": 13,
   "metadata": {},
   "outputs": [
    {
     "data": {
      "image/png": "[encoded data removed]",
      "text/plain": [
       "<Figure size 640x480 with 1 Axes>"
      ]
     },
     "metadata": {},
     "output_type": "display_data"
    }
   ],
   "source": [
    "import matplotlib.pyplot as plt\n",
    "import numpy as np\n",
    "\n",
    "x = np.linspace(-4,5)\n",
    "y = f1(x)\n",
    "\n",
    "plt.plot(x,y)\n",
    "plt.grid(True)\n",
    "plt.show()\n"
   ]
  },
  {
   "cell_type": "code",
   "execution_count": 21,
   "metadata": {},
   "outputs": [],
   "source": [
    "sy.exp = 0.125*(x + 2)**2 * (x - 2)**2\n"
   ]
  },
  {
   "cell_type": "code",
   "execution_count": 39,
   "metadata": {},
   "outputs": [
    {
     "data": {
      "image/png": "[encoded data removed]",
      "text/latex": [
       "$\\displaystyle 0.125 x^{4} - 1.0 x^{2} + 2.0$"
      ],
      "text/plain": [
       "       4    2      \n",
       "0.125⋅x  - x  + 2.0"
      ]
     },
     "execution_count": 39,
     "metadata": {},
     "output_type": "execute_result"
    }
   ],
   "source": [
    "\n",
    "from sympy import cos, exp, sin\n",
    "from sympy.abc import x, y, z\n",
    "(1/8*(x + 2)**2*((x - 2)**2)).expand(mul=True)"
   ]
  },
  {
   "cell_type": "code",
   "execution_count": null,
   "metadata": {},
   "outputs": [],
   "source": []
  }
 ],
 "metadata": {
  "kernelspec": {
   "display_name": "Python 3.9.13 ('base')",
   "language": "python",
   "name": "python3"
  },
  "language_info": {
   "codemirror_mode": {
    "name": "ipython",
    "version": 3
   },
   "file_extension": ".py",
   "mimetype": "text/x-python",
   "name": "python",
   "nbconvert_exporter": "python",
   "pygments_lexer": "ipython3",
   "version": "3.9.13"
  },
  "orig_nbformat": 4,
  "vscode": {
   "interpreter": {
    "hash": "6ad93510c6c24280dea2c27e84bea9df1cdb64651dc08be03082e318517273cb"
   }
  }
 },
 "nbformat": 4,
 "nbformat_minor": 2
}
