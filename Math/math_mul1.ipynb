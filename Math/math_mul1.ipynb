{
 "cells": [
  {
   "cell_type": "code",
   "execution_count": 1,
   "metadata": {},
   "outputs": [],
   "source": [
    "import numpy as np"
   ]
  },
  {
   "cell_type": "code",
   "execution_count": 2,
   "metadata": {},
   "outputs": [],
   "source": [
    "def mathmul_forward(x,w):\n",
    "    print(x.shape[1], w.shape[0])\n",
    "\n",
    "    assert x.shape[1] == w.shape[0],   print(\"Fehler !!!\")\n",
    "\n",
    "    N = x * w\n",
    "    return N"
   ]
  },
  {
   "cell_type": "code",
   "execution_count": 30,
   "metadata": {},
   "outputs": [
    {
     "name": "stdout",
     "output_type": "stream",
     "text": [
      "(1, 3) (1, 3)\n",
      "3 1\n",
      "--------------------------------------\n",
      "1 3\n",
      "3 3\n",
      "[[1 2 3]]\n",
      "[[11]\n",
      " [22]\n",
      " [33]]\n",
      "--------------------------------------\n",
      "x.dot(w) =  [[154]]\n",
      "np.dot(x,w) =  [[154]]\n"
     ]
    }
   ],
   "source": [
    "x =np.array([[1,2,3]])\n",
    "w =np.array([[11,22,33]])\n",
    "\n",
    "print(x.shape, w.shape)\n",
    "print(x.shape[1], w.shape[0])\n",
    "print(\"--------------------------------------\")\n",
    "w = w.T\n",
    "print(x.shape[0], w.shape[0])\n",
    "print(x.shape[1], w.shape[0])\n",
    "print(x)\n",
    "print(w)\n",
    "print(\"--------------------------------------\")\n",
    "print(\"x.dot(w) = \", x.dot(w))\n",
    "N = np.dot(x,w)\n",
    "print(\"np.dot(x,w) = \", N )\n",
    "#print(mathmul_forward(x,w))"
   ]
  },
  {
   "cell_type": "code",
   "execution_count": 37,
   "metadata": {},
   "outputs": [
    {
     "name": "stdout",
     "output_type": "stream",
     "text": [
      "[3 1 2] [2 4 3]\n",
      "(3,)\n",
      "(3,)\n",
      "16\n"
     ]
    }
   ],
   "source": [
    "# Initialize arrays\n",
    "arr = np.array([3, 1, 2])\n",
    "arr1 = np.array([2, 4, 3])\n",
    "\n",
    "#arr = arr.T\n",
    "print(arr, arr1)\n",
    "print(arr.shape)\n",
    "print(arr1.shape)\n",
    "\n",
    "# Get the dot product of 1-D arrays\n",
    "arr2 = np.dot(arr, arr1)\n",
    "print(arr2)\n"
   ]
  },
  {
   "cell_type": "code",
   "execution_count": null,
   "metadata": {},
   "outputs": [],
   "source": []
  }
 ],
 "metadata": {
  "kernelspec": {
   "display_name": "base",
   "language": "python",
   "name": "python3"
  },
  "language_info": {
   "codemirror_mode": {
    "name": "ipython",
    "version": 3
   },
   "file_extension": ".py",
   "mimetype": "text/x-python",
   "name": "python",
   "nbconvert_exporter": "python",
   "pygments_lexer": "ipython3",
   "version": "3.9.13 (main, Aug 25 2022, 23:51:50) [MSC v.1916 64 bit (AMD64)]"
  },
  "orig_nbformat": 4,
  "vscode": {
   "interpreter": {
    "hash": "6ad93510c6c24280dea2c27e84bea9df1cdb64651dc08be03082e318517273cb"
   }
  }
 },
 "nbformat": 4,
 "nbformat_minor": 2
}
