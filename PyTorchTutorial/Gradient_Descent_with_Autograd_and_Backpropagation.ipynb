{
 "cells": [
  {
   "attachments": {},
   "cell_type": "markdown",
   "metadata": {},
   "source": [
    "# Gradient Descent with Autograd and Backpropagation"
   ]
  },
  {
   "attachments": {},
   "cell_type": "markdown",
   "metadata": {},
   "source": [
    "![Bild]('../images/pytorch_manually_1.png')"
   ]
  },
  {
   "cell_type": "code",
   "execution_count": 4,
   "metadata": {},
   "outputs": [],
   "source": [
    "import numpy as np"
   ]
  },
  {
   "cell_type": "code",
   "execution_count": 61,
   "metadata": {},
   "outputs": [],
   "source": [
    "X = np.array([1,2,3,4], dtype=np.float32)\n",
    "Y = np.array([2,4,6,8], dtype=np.float32)\n",
    "w = 0.0"
   ]
  },
  {
   "cell_type": "code",
   "execution_count": 43,
   "metadata": {},
   "outputs": [],
   "source": [
    "\n",
    "\n",
    "def w_zero():\n",
    "    w = 0.0\n",
    "\n",
    "def forward(x):\n",
    "    return x * w"
   ]
  },
  {
   "cell_type": "code",
   "execution_count": 44,
   "metadata": {},
   "outputs": [],
   "source": [
    "# loss = MSE\n",
    "def loss(y, y_predicted):\n",
    "   diff = y_predicted - y\n",
    "   differences_squared = diff ** 2\n",
    "   mean_diff = differences_squared.mean()\n",
    "   return mean_diff    \n",
    "#    return ((y_predicted - y)**2).mean()"
   ]
  },
  {
   "cell_type": "code",
   "execution_count": 55,
   "metadata": {},
   "outputs": [],
   "source": [
    "# mse = 1/n (w*x -y)**2\n",
    "# dj/dw = 1/n 2*(w*x -y)\n",
    "def gradient(y, y_predicted):\n",
    "    diff = y_predicted - y\n",
    "    dot = np.dot(2, diff)\n",
    "    mean_dot  = dot.mean()\n",
    "    return mean_dot"
   ]
  },
  {
   "cell_type": "code",
   "execution_count": 62,
   "metadata": {},
   "outputs": [
    {
     "name": "stdout",
     "output_type": "stream",
     "text": [
      "Prediction before training f(5) = 0.000\n",
      "epoch 1: w = 1.000  loss = 30.00000000\n",
      "epoch 3: w = 1.750  loss = 1.87500000\n",
      "epoch 5: w = 1.938  loss = 0.11718750\n",
      "epoch 7: w = 1.984  loss = 0.00732422\n",
      "epoch 9: w = 1.996  loss = 0.00045776\n",
      "epoch 11: w = 1.999  loss = 0.00002861\n",
      "epoch 13: w = 2.000  loss = 0.00000179\n",
      "epoch 15: w = 2.000  loss = 0.00000011\n",
      "epoch 17: w = 2.000  loss = 0.00000001\n",
      "epoch 19: w = 2.000  loss = 0.00000000\n",
      "Prediction after training f(5) = 10.000\n"
     ]
    }
   ],
   "source": [
    "print(f'Prediction before training f(5) = {forward(5):.3f}')\n",
    "\n",
    "w_zero()\n",
    "learning_rate = 0.1\n",
    "n_iters = 20\n",
    "\n",
    "for epoche in range(n_iters):\n",
    "    # prediction forward pass \n",
    "    y_pred = forward(X)\n",
    "\n",
    "    # loss\n",
    "    l = loss(Y, y_pred)\n",
    "\n",
    "    # gradients\n",
    "    dw = gradient(Y, y_pred)\n",
    "\n",
    "    # update weigths\n",
    "    w -= learning_rate * dw\n",
    "\n",
    "    if epoche % 2 == 0:\n",
    "        print(f'epoch {epoche+1}: w = {w:.3f}  loss = {l:.8f}')\n",
    "\n",
    "\n",
    "print(f'Prediction after training f(5) = {forward(5):.3f}')\n"
   ]
  },
  {
   "cell_type": "code",
   "execution_count": 47,
   "metadata": {},
   "outputs": [
    {
     "name": "stdout",
     "output_type": "stream",
     "text": [
      "0.04666666666666667\n"
     ]
    }
   ],
   "source": [
    "y = np.array([1.1,2,1.7])\n",
    "y_p = np.array([1,1.7,1.5])\n",
    "\n",
    "print(loss(y,y_p))"
   ]
  },
  {
   "cell_type": "code",
   "execution_count": 51,
   "metadata": {},
   "outputs": [
    {
     "name": "stdout",
     "output_type": "stream",
     "text": [
      "w =  0.0\n",
      "y =  [0. 0. 0. 0.]\n",
      "loss =  30.0\n"
     ]
    }
   ],
   "source": [
    "w_zero()\n",
    "print(\"w = \", w)\n",
    "print(\"y = \", forward(X))\n",
    "\n",
    "print(\"loss = \", loss(forward(X),Y))"
   ]
  },
  {
   "cell_type": "code",
   "execution_count": null,
   "metadata": {},
   "outputs": [],
   "source": []
  }
 ],
 "metadata": {
  "kernelspec": {
   "display_name": "base",
   "language": "python",
   "name": "python3"
  },
  "language_info": {
   "codemirror_mode": {
    "name": "ipython",
    "version": 3
   },
   "file_extension": ".py",
   "mimetype": "text/x-python",
   "name": "python",
   "nbconvert_exporter": "python",
   "pygments_lexer": "ipython3",
   "version": "3.9.13 (main, Aug 25 2022, 23:51:50) [MSC v.1916 64 bit (AMD64)]"
  },
  "orig_nbformat": 4,
  "vscode": {
   "interpreter": {
    "hash": "6ad93510c6c24280dea2c27e84bea9df1cdb64651dc08be03082e318517273cb"
   }
  }
 },
 "nbformat": 4,
 "nbformat_minor": 2
}
