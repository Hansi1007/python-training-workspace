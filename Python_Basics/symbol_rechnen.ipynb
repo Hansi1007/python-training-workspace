{
 "cells": [
  {
   "cell_type": "code",
   "execution_count": 8,
   "metadata": {},
   "outputs": [],
   "source": [
    "from sympy import collect\n",
    "import sympy as sy"
   ]
  },
  {
   "cell_type": "code",
   "execution_count": 9,
   "metadata": {},
   "outputs": [],
   "source": [
    "sy.init_printing()"
   ]
  },
  {
   "cell_type": "markdown",
   "metadata": {},
   "source": [
    "Die Untersuchung einer Geradengleichung auf Nullstelle läßt sich mit Python einfach\n",
    "durchfuhren (Zur Erinnerung: Es wird vorausgesetzt, daß auf der rechten Seite der Gleichung Null steht)"
   ]
  },
  {
   "cell_type": "code",
   "execution_count": 24,
   "metadata": {},
   "outputs": [
    {
     "name": "stdout",
     "output_type": "stream",
     "text": [
      "[-a/b]\n",
      "[-5/2]\n",
      "[3/5]\n"
     ]
    }
   ],
   "source": [
    "# 0.5 * x**3 + 2 * x**2 -9\n",
    "x,y,a,b = sy.symbols( 'x , y, a , b , ')\n",
    "\n",
    "#Geradengleichung vorrausgesetzt auf rechten seite steht 0\n",
    "print(sy.solve('b*x + a', x))\n",
    "\n",
    "print(sy.solve (2*x+5 , x ))\n",
    "\n",
    "print(sy.solve (-5* x + 3, x ))"
   ]
  },
  {
   "cell_type": "code",
   "execution_count": 25,
   "metadata": {},
   "outputs": [
    {
     "data": {
      "image/png": "[encoded data removed]",
      "text/latex": [
       "$\\displaystyle \\left[ b x - b x_{0} + y_{0}\\right]$"
      ],
      "text/plain": [
       "[b⋅x - b⋅x₀ + y₀]"
      ]
     },
     "execution_count": 25,
     "metadata": {},
     "output_type": "execute_result"
    }
   ],
   "source": [
    "x , x0 , y , y0 , b = sy.symbols( 'x , x0 , y , y0 , b ')\n",
    "sy.solve (( y - y0 )/( x - x0 ) - b , y )\n"
   ]
  },
  {
   "cell_type": "markdown",
   "metadata": {},
   "source": [
    "Die Nullstellensuche bei einer Parabel kann ebenfalls mit der Funktion solve vorgenommen werden:\n"
   ]
  },
  {
   "cell_type": "code",
   "execution_count": 28,
   "metadata": {},
   "outputs": [
    {
     "data": {
      "image/png": "[encoded data removed]",
      "text/latex": [
       "$\\displaystyle \\left[ \\frac{- b - \\sqrt{- 4 a c + b^{2}}}{2 a}, \\  \\frac{- b + \\sqrt{- 4 a c + b^{2}}}{2 a}\\right]$"
      ],
      "text/plain": [
       "⎡        _____________          _____________⎤\n",
       "⎢       ╱           2          ╱           2 ⎥\n",
       "⎢-b - ╲╱  -4⋅a⋅c + b    -b + ╲╱  -4⋅a⋅c + b  ⎥\n",
       "⎢─────────────────────, ─────────────────────⎥\n",
       "⎣         2⋅a                    2⋅a         ⎦"
      ]
     },
     "execution_count": 28,
     "metadata": {},
     "output_type": "execute_result"
    }
   ],
   "source": [
    "a, b, c, x = sy.symbols('a b c x')\n",
    "\n",
    "sy.solve (a* x**2 + b * x + c, x )"
   ]
  },
  {
   "cell_type": "code",
   "execution_count": 48,
   "metadata": {},
   "outputs": [
    {
     "data": {
      "image/png": "[encoded data removed]",
      "text/latex": [
       "$\\displaystyle 0.5 x^{4} + 3 x - 2$"
      ],
      "text/plain": [
       "     4          \n",
       "0.5⋅x  + 3⋅x - 2"
      ]
     },
     "execution_count": 48,
     "metadata": {},
     "output_type": "execute_result"
    }
   ],
   "source": [
    "def p ( x ):\n",
    " return 0.5 * x**4 + 3 * x - 2\n",
    " \n",
    "p ( x ). expand ()"
   ]
  },
  {
   "cell_type": "code",
   "execution_count": 49,
   "metadata": {},
   "outputs": [
    {
     "data": {
      "image/png": "[encoded data removed]",
      "text/latex": [
       "$\\displaystyle 4$"
      ],
      "text/plain": [
       "4"
      ]
     },
     "execution_count": 49,
     "metadata": {},
     "output_type": "execute_result"
    }
   ],
   "source": [
    "# Mittels degree läßt sich der Grad des Polynoms abfragen.\n",
    "sy.degree(p(x))"
   ]
  },
  {
   "cell_type": "code",
   "execution_count": 50,
   "metadata": {},
   "outputs": [
    {
     "data": {
      "image/png": "[encoded data removed]",
      "text/latex": [
       "$\\displaystyle \\left[ 0.5, \\  0.0, \\  0.0, \\  3.0, \\  -2.0\\right]$"
      ],
      "text/plain": [
       "[0.5, 0.0, 0.0, 3.0, -2.0]"
      ]
     },
     "execution_count": 50,
     "metadata": {},
     "output_type": "execute_result"
    }
   ],
   "source": [
    "p = sy.Poly( p(x) ,x)\n",
    "p.all_coeffs()"
   ]
  },
  {
   "cell_type": "code",
   "execution_count": 52,
   "metadata": {},
   "outputs": [
    {
     "data": {
      "image/png": "[encoded data removed]",
      "text/latex": [
       "$\\displaystyle \\left[ -2.0, \\  0.638896919471353, \\  0.680551540264324 - 1.63317024091524 i, \\  0.680551540264324 + 1.63317024091524 i\\right]$"
      ],
      "text/plain": [
       "[-2.0, 0.638896919471353, 0.680551540264324 - 1.63317024091524⋅ⅈ, 0.6805515402\n",
       "64324 + 1.63317024091524⋅ⅈ]"
      ]
     },
     "execution_count": 52,
     "metadata": {},
     "output_type": "execute_result"
    }
   ],
   "source": [
    "sy.solve('0.5 * x**4 + 3 * x - 2', x)"
   ]
  },
  {
   "cell_type": "markdown",
   "metadata": {},
   "source": [
    "Um ein Polynom fur ein bestimmtes x auszuwerten, setzt man einfach in das definierte\n",
    "Polynom ein:\n"
   ]
  },
  {
   "cell_type": "code",
   "execution_count": 65,
   "metadata": {},
   "outputs": [
    {
     "name": "stdout",
     "output_type": "stream",
     "text": [
      "f(-2) =  0.0\n",
      "f(-1) =  -4.5\n",
      "f(0) =  -2.0\n",
      "f(0.639) =  0.0003630195204999964\n",
      "f(0.5) =  -0.46875\n",
      "f(1) =  1.5\n",
      "f(2) =  12.0\n"
     ]
    }
   ],
   "source": [
    "print( 'f(-2) = ', p(-2))\n",
    "print( 'f(-1) = ', p(-1))\n",
    "print( 'f(0) = ', p(0))\n",
    "print( 'f(0.639) = ', p(0.639))\n",
    "print( 'f(0.5) = ', p(0.5))\n",
    "print( 'f(1) = ', p(1))\n",
    "print( 'f(2) = ', p(2))"
   ]
  },
  {
   "cell_type": "markdown",
   "metadata": {},
   "source": []
  },
  {
   "cell_type": "code",
   "execution_count": 77,
   "metadata": {},
   "outputs": [
    {
     "data": {
      "image/png": "[encoded data removed]",
      "text/plain": [
       "<Figure size 640x480 with 1 Axes>"
      ]
     },
     "metadata": {},
     "output_type": "display_data"
    }
   ],
   "source": [
    "import numpy as np\n",
    "import matplotlib.pyplot as plt\n",
    "\n",
    "def p(x):\n",
    "    return 0.5 * x**4 + 3 * x - 2\n",
    "\n",
    "u = np.linspace( -4 , 4)\n",
    "plt.axhline(y=0, color=\"black\", linestyle=\"-\")\n",
    "plt.axvline(color=\"black\")\n",
    "plt.scatter([-2, 0.639], [p(-2), p(0.639)], c='r', marker='x')\n",
    "plt.plot (u , p(u))\n",
    "plt.axis([-3, 3, -10, 40])\n",
    "plt.grid(color = 'green', linestyle = '--', linewidth = 0.5)\n",
    "plt.show ()"
   ]
  },
  {
   "cell_type": "code",
   "execution_count": 74,
   "metadata": {},
   "outputs": [
    {
     "name": "stdout",
     "output_type": "stream",
     "text": [
      "[-2.00000000000000, 0.638896919471353, 0.680551540264324 - 1.63317024091524*I, 0.680551540264324 + 1.63317024091524*I]\n"
     ]
    },
    {
     "data": {
      "image/png": "[encoded data removed]",
      "text/latex": [
       "$\\displaystyle -2.0$"
      ],
      "text/plain": [
       "-2.00000000000000"
      ]
     },
     "execution_count": 74,
     "metadata": {},
     "output_type": "execute_result"
    }
   ],
   "source": [
    "pl = sy.solve( 0.5 * x**4 + 3 * x - 2, x)\n",
    "h = pl [0]. expand ()\n",
    "print(pl)\n",
    "collect (h , x )"
   ]
  },
  {
   "cell_type": "code",
   "execution_count": null,
   "metadata": {},
   "outputs": [],
   "source": []
  }
 ],
 "metadata": {
  "kernelspec": {
   "display_name": "Python 3.9.13 ('base')",
   "language": "python",
   "name": "python3"
  },
  "language_info": {
   "codemirror_mode": {
    "name": "ipython",
    "version": 3
   },
   "file_extension": ".py",
   "mimetype": "text/x-python",
   "name": "python",
   "nbconvert_exporter": "python",
   "pygments_lexer": "ipython3",
   "version": "3.9.13"
  },
  "orig_nbformat": 4,
  "vscode": {
   "interpreter": {
    "hash": "6ad93510c6c24280dea2c27e84bea9df1cdb64651dc08be03082e318517273cb"
   }
  }
 },
 "nbformat": 4,
 "nbformat_minor": 2
}
