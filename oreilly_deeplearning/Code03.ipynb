{
 "cells": [
  {
   "attachments": {},
   "cell_type": "markdown",
   "metadata": {},
   "source": [
    "![Bild-Backpropagation](../images/Backpropagation_Example_With_Activation_Function.png)"
   ]
  },
  {
   "attachments": {},
   "cell_type": "markdown",
   "metadata": {},
   "source": [
    "![Bild-Backpropagation](../images/ableitung_dreier_verschatelter_funktionen.png)"
   ]
  },
  {
   "attachments": {},
   "cell_type": "markdown",
   "metadata": {},
   "source": [
    "### imports\n",
    "\n",
    "\n"
   ]
  },
  {
   "cell_type": "code",
   "execution_count": 2,
   "metadata": {},
   "outputs": [],
   "source": [
    "import matplotlib.pyplot as plt\n",
    "import matplotlib\n",
    "import numpy as np\n",
    "from numpy import ndarray"
   ]
  },
  {
   "attachments": {},
   "cell_type": "markdown",
   "metadata": {},
   "source": [
    "### Funktion un deren Ableitungen"
   ]
  },
  {
   "cell_type": "code",
   "execution_count": 3,
   "metadata": {},
   "outputs": [],
   "source": [
    "def sigmoid(x: ndarray) -> ndarray:\n",
    "    return 1 /( 1 + np.exp(-1*x))\n",
    "\n",
    "def deriv_sigmoid(x: ndarray) -> ndarray:    \n",
    "    return sigmoid(x) * ( 1 - sigmoid(x))"
   ]
  },
  {
   "cell_type": "code",
   "execution_count": 4,
   "metadata": {},
   "outputs": [],
   "source": [
    "# Target\n",
    "t = np.array([0.5])\n",
    "\n",
    "def cost(x: ndarray) -> ndarray:\n",
    "    return np.power(x - t, 2)\n",
    "\n",
    "# C(x) = (x-t)^2 = x^2 -2xt + t^2\n",
    "# C'(x) = 2x - 2t = 2(x-t)\n",
    "def deriv_cost(x: ndarray) -> ndarray:\n",
    "    return 2 * (x - t)"
   ]
  },
  {
   "cell_type": "code",
   "execution_count": 5,
   "metadata": {},
   "outputs": [],
   "source": [
    "\n",
    "a_values = []\n",
    "w_values = []\n",
    "c_values = []\n",
    "dadi_values = []\n",
    "dcda_values = []\n",
    "dcdi_values = []\n",
    "\n",
    "\n",
    "def chain_deriv2_w(input: ndarray, weigth: ndarray) -> ndarray:\n",
    "    '''\n",
    "    Berechnet das neue Gewicht\n",
    "    Forwärts Berechnung: in = i*w and f(in) = calc(sigmoid(in))  -> f(x) = f2(f1(x))  \n",
    "    f'(x) = f2'(x)f1(x) * f1'(x)\n",
    "    f1(i): a = sigmoid(i)\n",
    "    f2(a): c = cost(a)\n",
    "\n",
    "    f'(i) = deriv_calc(a) * derive_sigmoid(i)\n",
    "\n",
    "    '''\n",
    "    # Learning rate \n",
    "    r = np.array([0.1])\n",
    "\n",
    "    #Input\n",
    "    i = input * weigth\n",
    "    a = np.round(sigmoid(i),3)\n",
    "\n",
    "    # Cost funktion\n",
    "    c = np.round(cost(a), 3)\n",
    "\n",
    "    dc_da = np.round(deriv_cost(a), 3)    # Aussere\n",
    "    da_di = np.round(deriv_sigmoid(i), 3) # Innere\n",
    "    dc_di = dc_da * da_di\n",
    "\n",
    "    w = np.round(weigth - (r * dc_di), 3)\n",
    "\n",
    "    a_values.append(a)\n",
    "    c_values.append(c)\n",
    "    dcda_values.append(dc_da)\n",
    "    dadi_values.append(da_di)\n",
    "    dcdi_values.append(dc_di)\n",
    "    w_values.append(w)\n",
    "    return w\n"
   ]
  },
  {
   "cell_type": "code",
   "execution_count": 21,
   "metadata": {},
   "outputs": [
    {
     "name": "stdout",
     "output_type": "stream",
     "text": [
      "    w        a         C        dc/da     da/di      dc/di        \n",
      "------------------------------------------------------------------\n",
      "   0.790    0.769     0.072     0.538     0.178      0.096 \n",
      "   0.780    0.766     0.071     0.532     0.179      0.095 \n",
      "   0.770    0.763     0.069     0.526     0.181      0.095 \n",
      "   0.761    0.760     0.068     0.520     0.182      0.095 \n",
      "   0.752    0.758     0.067     0.516     0.183      0.094 \n",
      "   0.743    0.755     0.065     0.510     0.185      0.094 \n",
      "   0.734    0.753     0.064     0.506     0.186      0.094 \n",
      "   0.725    0.750     0.062     0.500     0.187      0.093 \n",
      "   0.716    0.748     0.062     0.496     0.189      0.094 \n",
      "   0.707    0.745     0.060     0.490     0.190      0.093 \n",
      "------------------------------------------------------------------\n"
     ]
    }
   ],
   "source": [
    "# Input \n",
    "input = np.array([1.5])\n",
    "# weights\n",
    "w = np.array([0.8])\n",
    "\n",
    "a_values.clear()\n",
    "c_values.clear()\n",
    "dcda_values.clear()\n",
    "dadi_values.clear()\n",
    "dcdi_values.clear()\n",
    "w_values.clear()\n",
    "\n",
    "for i in range(10):\n",
    "    w = chain_deriv2_w(input, w)\n",
    "\n",
    "print(\"    w        a         C        dc/da     da/di      dc/di        \")\n",
    "print(\"------------------------------------------------------------------\")\n",
    "for i in range(len(a_values)):\n",
    "    # print(w_values[i], \" \",a_values[i], \" \", c_values[i] )\n",
    "    print(\"%8.3f %8.3f  %8.3f  %8.3f  %8.3f   %8.3f \"% (w_values[i], a_values[i], c_values[i], dcda_values[i], dadi_values[i], dcdi_values[i]))\n",
    "print(\"------------------------------------------------------------------\")    "
   ]
  },
  {
   "cell_type": "code",
   "execution_count": null,
   "metadata": {},
   "outputs": [],
   "source": []
  }
 ],
 "metadata": {
  "kernelspec": {
   "display_name": "base",
   "language": "python",
   "name": "python3"
  },
  "language_info": {
   "codemirror_mode": {
    "name": "ipython",
    "version": 3
   },
   "file_extension": ".py",
   "mimetype": "text/x-python",
   "name": "python",
   "nbconvert_exporter": "python",
   "pygments_lexer": "ipython3",
   "version": "3.9.13"
  },
  "orig_nbformat": 4,
  "vscode": {
   "interpreter": {
    "hash": "6ad93510c6c24280dea2c27e84bea9df1cdb64651dc08be03082e318517273cb"
   }
  }
 },
 "nbformat": 4,
 "nbformat_minor": 2
}
