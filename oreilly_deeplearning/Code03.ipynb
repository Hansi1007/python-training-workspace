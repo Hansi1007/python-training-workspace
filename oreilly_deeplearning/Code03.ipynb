{
 "cells": [
  {
   "attachments": {},
   "cell_type": "markdown",
   "metadata": {},
   "source": [
    "![Bild-Backpropagation](../images/Backpropagation_Example_With_Activation_Function.png)"
   ]
  },
  {
   "attachments": {},
   "cell_type": "markdown",
   "metadata": {},
   "source": [
    "### imports\n",
    "\n",
    "\n"
   ]
  },
  {
   "cell_type": "code",
   "execution_count": 1,
   "metadata": {},
   "outputs": [],
   "source": [
    "import matplotlib.pyplot as plt\n",
    "import matplotlib\n",
    "import numpy as np\n",
    "from numpy import ndarray"
   ]
  },
  {
   "attachments": {},
   "cell_type": "markdown",
   "metadata": {},
   "source": [
    "### Funktion un deren Ableitungen"
   ]
  },
  {
   "cell_type": "code",
   "execution_count": 27,
   "metadata": {},
   "outputs": [],
   "source": [
    "def sigmoid(x: ndarray) -> ndarray:\n",
    "    return 1 /( 1 + np.exp(-1*x))\n",
    "\n",
    "def deriv_sigmoid(x: ndarray) -> ndarray:    \n",
    "    return sigmoid(x) * ( 1 - sigmoid(x))"
   ]
  },
  {
   "cell_type": "code",
   "execution_count": 28,
   "metadata": {},
   "outputs": [],
   "source": [
    "# Target\n",
    "t = np.array([0.5])\n",
    "\n",
    "def cost(x: ndarray) -> ndarray:\n",
    "    return np.power(x - t, 2)\n",
    "\n",
    "# C(x) = (x-t)^2 = x^2 -2xt + t^2\n",
    "# C'(x) = 2x - 2t = 2(x-t)\n",
    "def deriv_cost(x: ndarray) -> ndarray:\n",
    "    return 2 * (x - t)"
   ]
  },
  {
   "cell_type": "code",
   "execution_count": 31,
   "metadata": {},
   "outputs": [],
   "source": [
    "def chain_deriv2_w(input: ndarray, weigth: ndarray) -> ndarray:\n",
    "    '''\n",
    "    Berechnet das neue Gewicht\n",
    "    Forwärts Berechnung: in = i*w and f(in) = calc(sigmoid(in))  -> f(x) = f2(f1(x))  \n",
    "    f'(x) = f2'(x)f1(x) * f1'(x)\n",
    "    f1(in): f1_in = sigmoid(in)\n",
    "    f2(f1_in): f2_f1in = calc(f1_in)\n",
    "\n",
    "    f'(in) = deriv_calc(f1_in) * derive_sigmoid(in)\n",
    "\n",
    "    '''\n",
    "    # Learning rate \n",
    "    r = np.array([0.1])\n",
    "\n",
    "    iw = input * weigth\n",
    "    print('w = ', weigth)\n",
    "    a = sigmoid(iw)\n",
    "    print('a = ', a)\n",
    "\n",
    "    c = cost(a)\n",
    "    print('c = ', c)\n",
    "\n",
    "    dc_da = deriv_cost(a)\n",
    "    print('dc_da = ', dc_da)\n",
    "\n",
    "    da_diw = deriv_sigmoid(iw)\n",
    "    print('da_diw = ', da_diw)\n",
    "\n",
    "    din_dc = dc_da * da_diw\n",
    "\n",
    "    da_dx = deriv_sigmoid(iw)\n",
    "    \n",
    "    w = weigth - (r * da_dx)\n",
    "\n",
    "    return w\n"
   ]
  },
  {
   "cell_type": "code",
   "execution_count": 34,
   "metadata": {},
   "outputs": [
    {
     "name": "stdout",
     "output_type": "stream",
     "text": [
      "w =  [0.8]\n",
      "a =  [0.76852478]\n",
      "c =  [0.07210556]\n",
      "dc_da =  [0.53704957]\n",
      "da_diw =  [0.17789444]\n",
      "1: [0.78221056]\n",
      "w =  [0.78221056]\n",
      "a =  [0.76374385]\n",
      "c =  [0.06956082]\n",
      "dc_da =  [0.52748769]\n",
      "da_diw =  [0.18043918]\n",
      "2: [0.76416664]\n",
      "w =  [0.76416664]\n",
      "a =  [0.75882529]\n",
      "c =  [0.06699053]\n",
      "dc_da =  [0.51765058]\n",
      "da_diw =  [0.18300947]\n",
      "3: [0.74586569]\n"
     ]
    }
   ],
   "source": [
    "# Input \n",
    "i = np.array([1.5])\n",
    "# weights\n",
    "w = np.array([0.8])\n",
    "\n",
    "w = chain_deriv2_w(i, w)\n",
    "print('1:', w)\n",
    "w = chain_deriv2_w(i, w)\n",
    "print('2:', w)\n",
    "w = chain_deriv2_w(i, w)\n",
    "print('3:', w)"
   ]
  },
  {
   "cell_type": "code",
   "execution_count": null,
   "metadata": {},
   "outputs": [],
   "source": []
  }
 ],
 "metadata": {
  "kernelspec": {
   "display_name": "base",
   "language": "python",
   "name": "python3"
  },
  "language_info": {
   "codemirror_mode": {
    "name": "ipython",
    "version": 3
   },
   "file_extension": ".py",
   "mimetype": "text/x-python",
   "name": "python",
   "nbconvert_exporter": "python",
   "pygments_lexer": "ipython3",
   "version": "3.9.13"
  },
  "orig_nbformat": 4,
  "vscode": {
   "interpreter": {
    "hash": "6ad93510c6c24280dea2c27e84bea9df1cdb64651dc08be03082e318517273cb"
   }
  }
 },
 "nbformat": 4,
 "nbformat_minor": 2
}
