{
 "cells": [
  {
   "attachments": {},
   "cell_type": "markdown",
   "metadata": {},
   "source": [
    "![Bild-Backpropagation](../images/Backpropagation_Example_With_Activation_Function.png)"
   ]
  },
  {
   "attachments": {},
   "cell_type": "markdown",
   "metadata": {},
   "source": [
    "![Bild-Backpropagation](../images/ableitung_dreier_verschatelter_funktionen.png)"
   ]
  },
  {
   "attachments": {},
   "cell_type": "markdown",
   "metadata": {},
   "source": [
    "### imports\n",
    "\n",
    "\n"
   ]
  },
  {
   "cell_type": "code",
   "execution_count": 2,
   "metadata": {},
   "outputs": [],
   "source": [
    "import matplotlib.pyplot as plt\n",
    "import matplotlib\n",
    "import numpy as np\n",
    "from numpy import ndarray"
   ]
  },
  {
   "attachments": {},
   "cell_type": "markdown",
   "metadata": {},
   "source": [
    "### Funktion un deren Ableitungen"
   ]
  },
  {
   "cell_type": "code",
   "execution_count": 3,
   "metadata": {},
   "outputs": [],
   "source": [
    "def sigmoid(x: ndarray) -> ndarray:\n",
    "    return 1 /( 1 + np.exp(-1*x))\n",
    "\n",
    "def deriv_sigmoid(x: ndarray) -> ndarray:    \n",
    "    return sigmoid(x) * ( 1 - sigmoid(x))"
   ]
  },
  {
   "cell_type": "code",
   "execution_count": 4,
   "metadata": {},
   "outputs": [],
   "source": [
    "# Target\n",
    "t = np.array([0.5])\n",
    "\n",
    "def cost(x: ndarray) -> ndarray:\n",
    "    return np.power(x - t, 2)\n",
    "\n",
    "# C(x) = (x-t)^2 = x^2 -2xt + t^2\n",
    "# C'(x) = 2x - 2t = 2(x-t)\n",
    "def deriv_cost(x: ndarray) -> ndarray:\n",
    "    return 2 * (x - t)"
   ]
  },
  {
   "cell_type": "code",
   "execution_count": 5,
   "metadata": {},
   "outputs": [],
   "source": [
    "\n",
    "a_values = []\n",
    "w_values = []\n",
    "c_values = []\n",
    "dadi_values = []\n",
    "dcda_values = []\n",
    "dcdi_values = []\n",
    "\n",
    "\n",
    "def chain_deriv2_w(input: ndarray, weigth: ndarray) -> ndarray:\n",
    "    '''\n",
    "    Berechnet das neue Gewicht\n",
    "    Forwärts Berechnung: in = i*w and f(in) = calc(sigmoid(in))  -> f(x) = f2(f1(x))  \n",
    "    f'(x) = f2'(x)f1(x) * f1'(x)\n",
    "    f1(i): a = sigmoid(i)\n",
    "    f2(a): c = cost(a)\n",
    "\n",
    "    f'(i) = deriv_calc(a) * derive_sigmoid(i)\n",
    "\n",
    "    '''\n",
    "    # Learning rate \n",
    "    r = np.array([0.1])\n",
    "\n",
    "    #Input\n",
    "    i = input * weigth\n",
    "    a = np.round(sigmoid(i),3)\n",
    "\n",
    "    # Cost funktion\n",
    "    c = np.round(cost(a), 3)\n",
    "\n",
    "    dc_da = np.round(deriv_cost(a), 3)    # Aussere\n",
    "    da_di = np.round(deriv_sigmoid(i), 3) # Innere\n",
    "    dc_di = dc_da * da_di\n",
    "\n",
    "    w = np.round(weigth - (r * dc_di), 3)\n",
    "\n",
    "    a_values.append(a)\n",
    "    c_values.append(c)\n",
    "    dcda_values.append(dc_da)\n",
    "    dadi_values.append(da_di)\n",
    "    dcdi_values.append(dc_di)\n",
    "    w_values.append(w)\n",
    "    return w\n"
   ]
  },
  {
   "cell_type": "code",
   "execution_count": 21,
   "metadata": {},
   "outputs": [
    {
     "name": "stdout",
     "output_type": "stream",
     "text": [
      "    w        a         C        dc/da     da/di      dc/di        \n",
      "------------------------------------------------------------------\n",
      "   0.790    0.769     0.072     0.538     0.178      0.096 \n",
      "   0.780    0.766     0.071     0.532     0.179      0.095 \n",
      "   0.770    0.763     0.069     0.526     0.181      0.095 \n",
      "   0.761    0.760     0.068     0.520     0.182      0.095 \n",
      "   0.752    0.758     0.067     0.516     0.183      0.094 \n",
      "   0.743    0.755     0.065     0.510     0.185      0.094 \n",
      "   0.734    0.753     0.064     0.506     0.186      0.094 \n",
      "   0.725    0.750     0.062     0.500     0.187      0.093 \n",
      "   0.716    0.748     0.062     0.496     0.189      0.094 \n",
      "   0.707    0.745     0.060     0.490     0.190      0.093 \n",
      "------------------------------------------------------------------\n"
     ]
    }
   ],
   "source": [
    "# Input \n",
    "input = np.array([1.5])\n",
    "# weights\n",
    "w = np.array([0.8])\n",
    "\n",
    "a_values.clear()\n",
    "c_values.clear()\n",
    "dcda_values.clear()\n",
    "dadi_values.clear()\n",
    "dcdi_values.clear()\n",
    "w_values.clear()\n",
    "\n",
    "for i in range(10):\n",
    "    w = chain_deriv2_w(input, w)\n",
    "\n",
    "print(\"    w        a         C        dc/da     da/di      dc/di        \")\n",
    "print(\"------------------------------------------------------------------\")\n",
    "for i in range(len(a_values)):\n",
    "    # print(w_values[i], \" \",a_values[i], \" \", c_values[i] )\n",
    "    print(\"%8.3f %8.3f  %8.3f  %8.3f  %8.3f   %8.3f \"% (w_values[i], a_values[i], c_values[i], dcda_values[i], dadi_values[i], dcdi_values[i]))\n",
    "print(\"------------------------------------------------------------------\")    "
   ]
  },
  {
   "attachments": {},
   "cell_type": "markdown",
   "metadata": {},
   "source": [
    "# Backpropagation - PyTorch\n"
   ]
  },
  {
   "cell_type": "code",
   "execution_count": 1,
   "metadata": {},
   "outputs": [],
   "source": [
    "import torch"
   ]
  },
  {
   "cell_type": "code",
   "execution_count": 48,
   "metadata": {},
   "outputs": [
    {
     "name": "stdout",
     "output_type": "stream",
     "text": [
      "Epoch 1 w = 0.786 , a = 0.769 loss = 0.072\n",
      "Epoch 2 w = 0.771 , a = 0.765 loss = 0.070\n",
      "Epoch 3 w = 0.757 , a = 0.761 loss = 0.068\n",
      "Epoch 4 w = 0.743 , a = 0.757 loss = 0.066\n",
      "Epoch 5 w = 0.729 , a = 0.753 loss = 0.064\n",
      "Epoch 6 w = 0.715 , a = 0.749 loss = 0.062\n",
      "Epoch 7 w = 0.701 , a = 0.745 loss = 0.060\n",
      "Epoch 8 w = 0.687 , a = 0.741 loss = 0.058\n",
      "Epoch 9 w = 0.673 , a = 0.737 loss = 0.056\n",
      "Epoch 10 w = 0.660 , a = 0.733 loss = 0.054\n"
     ]
    }
   ],
   "source": [
    "# Input\n",
    "x = torch.tensor([1.5], dtype=torch.float32)\n",
    "# Target\n",
    "t = torch.tensor([0.5], dtype=torch.float32)  \n",
    "# Learning rate\n",
    "r = torch.tensor([0.1], dtype=torch.float32 )\n",
    "# Weigths\n",
    "w = torch.tensor([0.8], requires_grad=True,  dtype=torch.float32)\n",
    "\n",
    "test = 0.0\n",
    "\n",
    "for epoch in range(10):\n",
    "    # forward\n",
    "    i = x * w\n",
    "    \n",
    "    # mit sigmoid\n",
    "    a =  1 /( 1 + torch.exp(-i))\n",
    "\n",
    "    # Cost funktion\n",
    "    C = torch.float_power((a - t), 2)\n",
    "    # Gradient\n",
    "    C.backward()\n",
    "\n",
    "    with torch.no_grad():\n",
    "        w -= r * w.grad        \n",
    "    \n",
    "    if epoch % 1 == 0:\n",
    "        print(f'Epoch {epoch+1} w = {w[0].item():.3f} , a = {a[0].item():.3f} loss = {C[0].item():.3f}')\n",
    "\n",
    "    w.grad.zero_()\n",
    "        \n"
   ]
  },
  {
   "cell_type": "code",
   "execution_count": 9,
   "metadata": {},
   "outputs": [
    {
     "name": "stdout",
     "output_type": "stream",
     "text": [
      "The value of pi is approximately 3.142.\n"
     ]
    }
   ],
   "source": [
    "import math\n",
    "print(f'The value of pi is approximately {math.pi:.3f}.')\n"
   ]
  },
  {
   "cell_type": "code",
   "execution_count": null,
   "metadata": {},
   "outputs": [],
   "source": []
  }
 ],
 "metadata": {
  "kernelspec": {
   "display_name": "base",
   "language": "python",
   "name": "python3"
  },
  "language_info": {
   "codemirror_mode": {
    "name": "ipython",
    "version": 3
   },
   "file_extension": ".py",
   "mimetype": "text/x-python",
   "name": "python",
   "nbconvert_exporter": "python",
   "pygments_lexer": "ipython3",
   "version": "3.9.13"
  },
  "orig_nbformat": 4,
  "vscode": {
   "interpreter": {
    "hash": "6ad93510c6c24280dea2c27e84bea9df1cdb64651dc08be03082e318517273cb"
   }
  }
 },
 "nbformat": 4,
 "nbformat_minor": 2
}
