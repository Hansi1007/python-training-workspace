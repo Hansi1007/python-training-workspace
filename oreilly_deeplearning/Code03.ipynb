{
 "cells": [
  {
   "attachments": {},
   "cell_type": "markdown",
   "metadata": {},
   "source": [
    "![Bild-Backpropagation](../images/Backpropagation_Example_With_Activation_Function.png)"
   ]
  },
  {
   "attachments": {},
   "cell_type": "markdown",
   "metadata": {},
   "source": [
    "![Bild-Backpropagation](../images/ableitung_dreier_verschatelter_funktionen.png)"
   ]
  },
  {
   "attachments": {},
   "cell_type": "markdown",
   "metadata": {},
   "source": [
    "### imports\n",
    "\n",
    "\n"
   ]
  },
  {
   "cell_type": "code",
   "execution_count": 2,
   "metadata": {},
   "outputs": [],
   "source": [
    "import matplotlib.pyplot as plt\n",
    "import matplotlib\n",
    "import numpy as np\n",
    "from numpy import ndarray"
   ]
  },
  {
   "attachments": {},
   "cell_type": "markdown",
   "metadata": {},
   "source": [
    "### Funktion un deren Ableitungen"
   ]
  },
  {
   "cell_type": "code",
   "execution_count": 3,
   "metadata": {},
   "outputs": [],
   "source": [
    "def sigmoid(x: ndarray) -> ndarray:\n",
    "    return 1 /( 1 + np.exp(-1*x))\n",
    "\n",
    "def deriv_sigmoid(x: ndarray) -> ndarray:    \n",
    "    return sigmoid(x) * ( 1 - sigmoid(x))"
   ]
  },
  {
   "cell_type": "code",
   "execution_count": 4,
   "metadata": {},
   "outputs": [],
   "source": [
    "# Target\n",
    "t = np.array([0.5])\n",
    "\n",
    "def cost(x: ndarray) -> ndarray:\n",
    "    return np.power(x - t, 2)\n",
    "\n",
    "# C(x) = (x-t)^2 = x^2 -2xt + t^2\n",
    "# C'(x) = 2x - 2t = 2(x-t)\n",
    "def deriv_cost(x: ndarray) -> ndarray:\n",
    "    return 2 * (x - t)"
   ]
  },
  {
   "cell_type": "code",
   "execution_count": 5,
   "metadata": {},
   "outputs": [],
   "source": [
    "\n",
    "a_values = []\n",
    "w_values = []\n",
    "c_values = []\n",
    "dadi_values = []\n",
    "dcda_values = []\n",
    "dcdi_values = []\n",
    "\n",
    "\n",
    "def chain_deriv2_w(input: ndarray, weigth: ndarray) -> ndarray:\n",
    "    '''\n",
    "    Berechnet das neue Gewicht\n",
    "    Forwärts Berechnung: in = i*w and f(in) = calc(sigmoid(in))  -> f(x) = f2(f1(x))  \n",
    "    f'(x) = f2'(x)f1(x) * f1'(x)\n",
    "    f1(i): a = sigmoid(i)\n",
    "    f2(a): c = cost(a)\n",
    "\n",
    "    f'(i) = deriv_calc(a) * derive_sigmoid(i)\n",
    "\n",
    "    '''\n",
    "    # Learning rate \n",
    "    r = np.array([0.1])\n",
    "\n",
    "    #Input\n",
    "    i = input * weigth\n",
    "    a = np.round(sigmoid(i),3)\n",
    "\n",
    "    # Cost funktion\n",
    "    c = np.round(cost(a), 3)\n",
    "\n",
    "    dc_da = np.round(deriv_cost(a), 3)    # Aussere\n",
    "    da_di = np.round(deriv_sigmoid(i), 3) # Innere\n",
    "    dc_di = dc_da * da_di\n",
    "\n",
    "    w = np.round(weigth - (r * dc_di), 3)\n",
    "\n",
    "    a_values.append(a)\n",
    "    c_values.append(c)\n",
    "    dcda_values.append(dc_da)\n",
    "    dadi_values.append(da_di)\n",
    "    dcdi_values.append(dc_di)\n",
    "    w_values.append(w)\n",
    "    return w\n"
   ]
  },
  {
   "cell_type": "code",
   "execution_count": 21,
   "metadata": {},
   "outputs": [
    {
     "name": "stdout",
     "output_type": "stream",
     "text": [
      "    w        a         C        dc/da     da/di      dc/di        \n",
      "------------------------------------------------------------------\n",
      "   0.790    0.769     0.072     0.538     0.178      0.096 \n",
      "   0.780    0.766     0.071     0.532     0.179      0.095 \n",
      "   0.770    0.763     0.069     0.526     0.181      0.095 \n",
      "   0.761    0.760     0.068     0.520     0.182      0.095 \n",
      "   0.752    0.758     0.067     0.516     0.183      0.094 \n",
      "   0.743    0.755     0.065     0.510     0.185      0.094 \n",
      "   0.734    0.753     0.064     0.506     0.186      0.094 \n",
      "   0.725    0.750     0.062     0.500     0.187      0.093 \n",
      "   0.716    0.748     0.062     0.496     0.189      0.094 \n",
      "   0.707    0.745     0.060     0.490     0.190      0.093 \n",
      "------------------------------------------------------------------\n"
     ]
    }
   ],
   "source": [
    "# Input \n",
    "input = np.array([1.5])\n",
    "# weights\n",
    "w = np.array([0.8])\n",
    "\n",
    "a_values.clear()\n",
    "c_values.clear()\n",
    "dcda_values.clear()\n",
    "dadi_values.clear()\n",
    "dcdi_values.clear()\n",
    "w_values.clear()\n",
    "\n",
    "for i in range(10):\n",
    "    w = chain_deriv2_w(input, w)\n",
    "\n",
    "print(\"    w        a         C        dc/da     da/di      dc/di        \")\n",
    "print(\"------------------------------------------------------------------\")\n",
    "for i in range(len(a_values)):\n",
    "    # print(w_values[i], \" \",a_values[i], \" \", c_values[i] )\n",
    "    print(\"%8.3f %8.3f  %8.3f  %8.3f  %8.3f   %8.3f \"% (w_values[i], a_values[i], c_values[i], dcda_values[i], dadi_values[i], dcdi_values[i]))\n",
    "print(\"------------------------------------------------------------------\")    "
   ]
  },
  {
   "attachments": {},
   "cell_type": "markdown",
   "metadata": {},
   "source": [
    "# Backpropagation - PyTorch\n"
   ]
  },
  {
   "cell_type": "code",
   "execution_count": 49,
   "metadata": {},
   "outputs": [],
   "source": [
    "import torch"
   ]
  },
  {
   "cell_type": "code",
   "execution_count": 50,
   "metadata": {},
   "outputs": [
    {
     "ename": "RuntimeError",
     "evalue": "Trying to backward through the graph a second time (or directly access saved tensors after they have already been freed). Saved intermediate values of the graph are freed when you call .backward() or autograd.grad(). Specify retain_graph=True if you need to backward through the graph a second time or if you need to access saved tensors after calling backward.",
     "output_type": "error",
     "traceback": [
      "\u001b[1;31m---------------------------------------------------------------------------\u001b[0m",
      "\u001b[1;31mRuntimeError\u001b[0m                              Traceback (most recent call last)",
      "\u001b[1;32m~\\AppData\\Local\\Temp\\ipykernel_2560\\1110919604.py\u001b[0m in \u001b[0;36m<module>\u001b[1;34m\u001b[0m\n\u001b[0;32m     15\u001b[0m     \u001b[1;31m# Cost funktion\u001b[0m\u001b[1;33m\u001b[0m\u001b[1;33m\u001b[0m\u001b[0m\n\u001b[0;32m     16\u001b[0m     \u001b[0mC\u001b[0m \u001b[1;33m=\u001b[0m \u001b[1;33m(\u001b[0m\u001b[0ma\u001b[0m \u001b[1;33m-\u001b[0m \u001b[0mt\u001b[0m\u001b[1;33m)\u001b[0m\u001b[1;33m**\u001b[0m\u001b[1;36m2\u001b[0m\u001b[1;33m\u001b[0m\u001b[1;33m\u001b[0m\u001b[0m\n\u001b[1;32m---> 17\u001b[1;33m     \u001b[0mC\u001b[0m\u001b[1;33m.\u001b[0m\u001b[0mbackward\u001b[0m\u001b[1;33m(\u001b[0m\u001b[1;33m)\u001b[0m\u001b[1;33m\u001b[0m\u001b[1;33m\u001b[0m\u001b[0m\n\u001b[0m\u001b[0;32m     18\u001b[0m     \u001b[1;32mwith\u001b[0m \u001b[0mtorch\u001b[0m\u001b[1;33m.\u001b[0m\u001b[0mno_grad\u001b[0m\u001b[1;33m(\u001b[0m\u001b[1;33m)\u001b[0m\u001b[1;33m:\u001b[0m\u001b[1;33m\u001b[0m\u001b[1;33m\u001b[0m\u001b[0m\n\u001b[0;32m     19\u001b[0m         \u001b[0mw\u001b[0m \u001b[1;33m-=\u001b[0m \u001b[0mr\u001b[0m \u001b[1;33m*\u001b[0m \u001b[0mw\u001b[0m\u001b[1;33m.\u001b[0m\u001b[0mgrad\u001b[0m\u001b[1;33m\u001b[0m\u001b[1;33m\u001b[0m\u001b[0m\n",
      "\u001b[1;32mc:\\devtools\\Anaconda3\\lib\\site-packages\\torch\\_tensor.py\u001b[0m in \u001b[0;36mbackward\u001b[1;34m(self, gradient, retain_graph, create_graph, inputs)\u001b[0m\n\u001b[0;32m    486\u001b[0m                 \u001b[0minputs\u001b[0m\u001b[1;33m=\u001b[0m\u001b[0minputs\u001b[0m\u001b[1;33m,\u001b[0m\u001b[1;33m\u001b[0m\u001b[1;33m\u001b[0m\u001b[0m\n\u001b[0;32m    487\u001b[0m             )\n\u001b[1;32m--> 488\u001b[1;33m         torch.autograd.backward(\n\u001b[0m\u001b[0;32m    489\u001b[0m             \u001b[0mself\u001b[0m\u001b[1;33m,\u001b[0m \u001b[0mgradient\u001b[0m\u001b[1;33m,\u001b[0m \u001b[0mretain_graph\u001b[0m\u001b[1;33m,\u001b[0m \u001b[0mcreate_graph\u001b[0m\u001b[1;33m,\u001b[0m \u001b[0minputs\u001b[0m\u001b[1;33m=\u001b[0m\u001b[0minputs\u001b[0m\u001b[1;33m\u001b[0m\u001b[1;33m\u001b[0m\u001b[0m\n\u001b[0;32m    490\u001b[0m         )\n",
      "\u001b[1;32mc:\\devtools\\Anaconda3\\lib\\site-packages\\torch\\autograd\\__init__.py\u001b[0m in \u001b[0;36mbackward\u001b[1;34m(tensors, grad_tensors, retain_graph, create_graph, grad_variables, inputs)\u001b[0m\n\u001b[0;32m    195\u001b[0m     \u001b[1;31m# some Python versions print out the first line of a multi-line function\u001b[0m\u001b[1;33m\u001b[0m\u001b[1;33m\u001b[0m\u001b[0m\n\u001b[0;32m    196\u001b[0m     \u001b[1;31m# calls in the traceback and some print out the last line\u001b[0m\u001b[1;33m\u001b[0m\u001b[1;33m\u001b[0m\u001b[0m\n\u001b[1;32m--> 197\u001b[1;33m     Variable._execution_engine.run_backward(  # Calls into the C++ engine to run the backward pass\n\u001b[0m\u001b[0;32m    198\u001b[0m         \u001b[0mtensors\u001b[0m\u001b[1;33m,\u001b[0m \u001b[0mgrad_tensors_\u001b[0m\u001b[1;33m,\u001b[0m \u001b[0mretain_graph\u001b[0m\u001b[1;33m,\u001b[0m \u001b[0mcreate_graph\u001b[0m\u001b[1;33m,\u001b[0m \u001b[0minputs\u001b[0m\u001b[1;33m,\u001b[0m\u001b[1;33m\u001b[0m\u001b[1;33m\u001b[0m\u001b[0m\n\u001b[0;32m    199\u001b[0m         allow_unreachable=True, accumulate_grad=True)  # Calls into the C++ engine to run the backward pass\n",
      "\u001b[1;31mRuntimeError\u001b[0m: Trying to backward through the graph a second time (or directly access saved tensors after they have already been freed). Saved intermediate values of the graph are freed when you call .backward() or autograd.grad(). Specify retain_graph=True if you need to backward through the graph a second time or if you need to access saved tensors after calling backward."
     ]
    }
   ],
   "source": [
    "# Input\n",
    "x = torch.tensor([1.0])\n",
    "# Target\n",
    "t = torch.tensor([0.5])  \n",
    "# Learning race\n",
    "r = torch.tensor([0.01])  \n",
    "# Weigths\n",
    "w = torch.tensor([0.8], requires_grad=True)\n",
    "\n",
    "for epoch in range(2):\n",
    "    # forward\n",
    "    i = x * w\n",
    "    \n",
    "    # mit sigmoid\n",
    "    a =  1 /( 1 + torch.exp(-1*xi))\n",
    "\n",
    "    # Cost funktion\n",
    "    C = (a - t)**2\n",
    "\n",
    "    # Gradient\n",
    "    C.backward()\n",
    "\n",
    "    with torch.no_grad():\n",
    "        w -= r * w.grad\n",
    "    \n",
    "    w.grad.zero_()\n",
    "    \n",
    "    print(f'epoch: {epoch+1},  w = {w:3f} loss = {C:3f}')\n"
   ]
  },
  {
   "cell_type": "code",
   "execution_count": 48,
   "metadata": {},
   "outputs": [
    {
     "name": "stdout",
     "output_type": "stream",
     "text": [
      "tensor([0.8000], grad_fn=<MulBackward0>)\n",
      "tensor([0.6900], grad_fn=<MulBackward0>)\n",
      "C =  tensor([0.0361], grad_fn=<PowBackward0>)\n",
      "w.grad =  tensor([0.7992], grad_fn=<SubBackward0>)\n"
     ]
    }
   ],
   "source": [
    "import torch\n",
    "from torch.autograd import grad\n",
    "import torch.nn as nn\n",
    "\n",
    "\n",
    "# Input\n",
    "x = torch.tensor([1.0])\n",
    "# Target\n",
    "t = torch.tensor([0.5])  \n",
    "# Learning race\n",
    "r = torch.tensor([0.01])  \n",
    "# Weigths\n",
    "w = torch.tensor([0.8], requires_grad=True)\n",
    "\n",
    "xi = x * w\n",
    "print(xi)\n",
    "    \n",
    "a =  1 /( 1 + torch.exp(-1*xi))\n",
    "print(a)\n",
    "\n",
    "# Cost funktion\n",
    "C = (a - t)**2\n",
    "print(\"C = \", C)\n",
    "\n",
    "C.backward()\n",
    "print(\"w.grad = \",w - (r*w.grad)) \n",
    "# Now compute gradients:\n",
    "#d_loss_dx = grad(outputs=C, inputs=x)\n",
    "#print(d_loss_dx)"
   ]
  },
  {
   "cell_type": "code",
   "execution_count": null,
   "metadata": {},
   "outputs": [],
   "source": []
  }
 ],
 "metadata": {
  "kernelspec": {
   "display_name": "base",
   "language": "python",
   "name": "python3"
  },
  "language_info": {
   "codemirror_mode": {
    "name": "ipython",
    "version": 3
   },
   "file_extension": ".py",
   "mimetype": "text/x-python",
   "name": "python",
   "nbconvert_exporter": "python",
   "pygments_lexer": "ipython3",
   "version": "3.9.13"
  },
  "orig_nbformat": 4,
  "vscode": {
   "interpreter": {
    "hash": "6ad93510c6c24280dea2c27e84bea9df1cdb64651dc08be03082e318517273cb"
   }
  }
 },
 "nbformat": 4,
 "nbformat_minor": 2
}
