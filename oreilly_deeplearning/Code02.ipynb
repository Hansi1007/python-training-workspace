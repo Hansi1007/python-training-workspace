{
 "cells": [
  {
   "attachments": {},
   "cell_type": "markdown",
   "metadata": {},
   "source": [
    "# Neural Network Backpropagation Example With Activation Function (Mikael Laine)\n",
    "https://www.youtube.com/watch?v=CoPl2xn2nmk"
   ]
  },
  {
   "attachments": {},
   "cell_type": "markdown",
   "metadata": {},
   "source": [
    "![Bild-Backpropagation](../images/Backpropagation_Example_With_Activation_Function.png)"
   ]
  },
  {
   "cell_type": "code",
   "execution_count": 1,
   "metadata": {},
   "outputs": [],
   "source": [
    "import matplotlib.pyplot as plt\n",
    "import matplotlib\n",
    "import numpy as np\n",
    "from numpy import ndarray\n"
   ]
  },
  {
   "cell_type": "code",
   "execution_count": 2,
   "metadata": {},
   "outputs": [],
   "source": [
    "def sigmoid(x : ndarray):\n",
    "    return 1 / (1 + np.exp(-x))\n",
    "\n",
    "def deriv_sigmoid(x : ndarray):\n",
    "    return sigmoid(x)*(1-sigmoid(x))  \n",
    "\n",
    "def linear(w : ndarray, x : ndarray):\n",
    "    return x * w\n",
    "\n",
    "def err(a, t):\n",
    "    return np.power(a - t, 2)\n",
    "\n",
    "def deriv_err(a : ndarray, t):\n",
    "    return 2 * ( a - t)\n"
   ]
  },
  {
   "cell_type": "code",
   "execution_count": 3,
   "metadata": {},
   "outputs": [
    {
     "data": {
      "text/plain": [
       "\"\\nt = np.array([0.5]) \\nax[2].plot(x_range, err(x_range, t))\\nax[2].set_title('errror')\\nax[2].set_xlabel('x')\\nax[2].set_ylabel('y')\\n\\nax[3].plot(x_range, deriv_err(x_range, t))\\nax[3].set_title('derive err')\\nax[3].set_xlabel('x')\\nax[3].set_ylabel('y')\\n\""
      ]
     },
     "execution_count": 3,
     "metadata": {},
     "output_type": "execute_result"
    },
    {
     "data": {
      "image/png": "[encoded data removed]",
      "text/plain": [
       "<Figure size 600x300 with 2 Axes>"
      ]
     },
     "metadata": {},
     "output_type": "display_data"
    }
   ],
   "source": [
    "fig, ax = plt.subplots(1, 2, sharey=True, figsize=(6, 3))  # 2 Rows, 1 Col / figsize=(6, 3)\n",
    "\n",
    "x_range = np.arange(-4, 4, 0.001)\n",
    "ax[0].plot(x_range, sigmoid(x_range))\n",
    "ax[0].set_title('sigmoid')\n",
    "ax[0].set_xlabel('x')\n",
    "ax[0].set_ylabel('y')\n",
    "\n",
    "ax[1].plot(x_range, deriv_sigmoid(x_range))\n",
    "ax[1].set_title('derive sigmoid')\n",
    "ax[1].set_xlabel('x')\n",
    "ax[1].set_ylabel('y')\n",
    "\n",
    "'''\n",
    "t = np.array([0.5]) \n",
    "ax[2].plot(x_range, err(x_range, t))\n",
    "ax[2].set_title('errror')\n",
    "ax[2].set_xlabel('x')\n",
    "ax[2].set_ylabel('y')\n",
    "\n",
    "ax[3].plot(x_range, deriv_err(x_range, t))\n",
    "ax[3].set_title('derive err')\n",
    "ax[3].set_xlabel('x')\n",
    "ax[3].set_ylabel('y')\n",
    "'''"
   ]
  },
  {
   "attachments": {},
   "cell_type": "markdown",
   "metadata": {},
   "source": [
    "f(i) = f3(f2(f1(i)))\n",
    "f(i)' = f3'(f2(f1(i))) * f2'(f1(i)) * f2(i)'\n",
    "\n"
   ]
  },
  {
   "cell_type": "code",
   "execution_count": 4,
   "metadata": {},
   "outputs": [
    {
     "name": "stdout",
     "output_type": "stream",
     "text": [
      "r=  [0.1]\n",
      "t=  [0.5]\n",
      "i=  [1.5]\n",
      "w=  [0.8]\n",
      "a =  [0.76852478]\n",
      "C =  [0.07210556]\n",
      "da_dw =  [0.17789444]\n",
      "dC_da [0.53704957]\n",
      "da_dw * dC_da [0.09553813]\n",
      "w new [0.79044619]\n"
     ]
    }
   ],
   "source": [
    "i = np.array([1.5])\n",
    "\n",
    "w = np.array([0.8])\n",
    "\n",
    "# f1(i) = w * i\n",
    "i_w = linear(w, i)   \n",
    "\n",
    "# f2(f1) = sigmoid(f1)\n",
    "a = sigmoid(i_w)\n",
    "# da_dw(f1(i))\n",
    "da_dw = deriv_sigmoid(i_w)\n",
    "\n",
    "#target\n",
    "t = np.array([0.5]) \n",
    "\n",
    "#Error function\n",
    "# f3(f2(f1))\n",
    "C = err(a, t)\n",
    "#Ableitung der Error function\n",
    "#dc_da(a)  und a = f2(f1(i))\n",
    "dC_da = deriv_err(a, t)\n",
    "\n",
    "#Learningrate\n",
    "r = np.array([0.1])\n",
    "\n",
    "print(\"r= \", r)\n",
    "print(\"t= \", t)\n",
    "print(\"i= \", i)\n",
    "print(\"w= \", w)\n",
    "\n",
    "\n",
    "print(\"a = \", a)\n",
    "print(\"C = \", C)\n",
    "print(\"da_dw = \", da_dw)\n",
    "print(\"dC_da\", dC_da)\n",
    "print(\"da_dw * dC_da\",  da_dw* dC_da)\n",
    "\n",
    "w = w - (r * da_dw* dC_da)\n",
    "\n",
    "print(\"w new\",  w)"
   ]
  },
  {
   "cell_type": "code",
   "execution_count": null,
   "metadata": {},
   "outputs": [],
   "source": []
  }
 ],
 "metadata": {
  "kernelspec": {
   "display_name": "base",
   "language": "python",
   "name": "python3"
  },
  "language_info": {
   "codemirror_mode": {
    "name": "ipython",
    "version": 3
   },
   "file_extension": ".py",
   "mimetype": "text/x-python",
   "name": "python",
   "nbconvert_exporter": "python",
   "pygments_lexer": "ipython3",
   "version": "3.9.13 (main, Aug 25 2022, 23:51:50) [MSC v.1916 64 bit (AMD64)]"
  },
  "orig_nbformat": 4,
  "vscode": {
   "interpreter": {
    "hash": "6ad93510c6c24280dea2c27e84bea9df1cdb64651dc08be03082e318517273cb"
   }
  }
 },
 "nbformat": 4,
 "nbformat_minor": 2
}
